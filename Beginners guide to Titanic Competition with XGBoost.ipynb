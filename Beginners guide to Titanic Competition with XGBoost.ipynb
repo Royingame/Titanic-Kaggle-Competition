{
 "cells": [
  {
   "cell_type": "markdown",
   "metadata": {},
   "source": [
    "### Lets import the necessary libraries"
   ]
  },
  {
   "cell_type": "code",
   "execution_count": 1,
   "metadata": {},
   "outputs": [],
   "source": [
    "import math, time, random, datetime "
   ]
  },
  {
   "cell_type": "code",
   "execution_count": 2,
   "metadata": {},
   "outputs": [],
   "source": [
    "### Libraries for data manipulation \n",
    "\n",
    "import pandas as pd\n",
    "import numpy as np"
   ]
  },
  {
   "cell_type": "code",
   "execution_count": 3,
   "metadata": {},
   "outputs": [],
   "source": [
    "### Libraries for Data Visualization and to gain meaningful Data Insights\n",
    "\n",
    "import matplotlib.pyplot as plt\n",
    "import seaborn as sns"
   ]
  },
  {
   "cell_type": "code",
   "execution_count": 4,
   "metadata": {},
   "outputs": [],
   "source": [
    "### I am very good at ignoring warnings ;)\n",
    "\n",
    "import warnings\n",
    "warnings.filterwarnings('ignore')"
   ]
  },
  {
   "cell_type": "markdown",
   "metadata": {},
   "source": [
    "### Lets start with these libraries for EDA and later we will import libraries required for model building :)"
   ]
  },
  {
   "cell_type": "code",
   "execution_count": 5,
   "metadata": {},
   "outputs": [],
   "source": [
    "#### Lets import the train & test data to check all the features/columns \n",
    "\n",
    "train = pd.read_csv('train (1).csv')\n",
    "test = pd.read_csv('test.csv')\n",
    "\n",
    "#### Also, let us have a look into the submission format for the competition\n",
    "\n",
    "gender_submission = pd.read_csv('gender_submission.csv')"
   ]
  },
  {
   "cell_type": "code",
   "execution_count": 6,
   "metadata": {},
   "outputs": [
    {
     "data": {
      "text/html": [
       "<div>\n",
       "<style scoped>\n",
       "    .dataframe tbody tr th:only-of-type {\n",
       "        vertical-align: middle;\n",
       "    }\n",
       "\n",
       "    .dataframe tbody tr th {\n",
       "        vertical-align: top;\n",
       "    }\n",
       "\n",
       "    .dataframe thead th {\n",
       "        text-align: right;\n",
       "    }\n",
       "</style>\n",
       "<table border=\"1\" class=\"dataframe\">\n",
       "  <thead>\n",
       "    <tr style=\"text-align: right;\">\n",
       "      <th></th>\n",
       "      <th>PassengerId</th>\n",
       "      <th>Survived</th>\n",
       "      <th>Pclass</th>\n",
       "      <th>Name</th>\n",
       "      <th>Sex</th>\n",
       "      <th>Age</th>\n",
       "      <th>SibSp</th>\n",
       "      <th>Parch</th>\n",
       "      <th>Ticket</th>\n",
       "      <th>Fare</th>\n",
       "      <th>Cabin</th>\n",
       "      <th>Embarked</th>\n",
       "    </tr>\n",
       "  </thead>\n",
       "  <tbody>\n",
       "    <tr>\n",
       "      <th>0</th>\n",
       "      <td>1</td>\n",
       "      <td>0</td>\n",
       "      <td>3</td>\n",
       "      <td>Braund, Mr. Owen Harris</td>\n",
       "      <td>male</td>\n",
       "      <td>22.0</td>\n",
       "      <td>1</td>\n",
       "      <td>0</td>\n",
       "      <td>A/5 21171</td>\n",
       "      <td>7.2500</td>\n",
       "      <td>NaN</td>\n",
       "      <td>S</td>\n",
       "    </tr>\n",
       "    <tr>\n",
       "      <th>1</th>\n",
       "      <td>2</td>\n",
       "      <td>1</td>\n",
       "      <td>1</td>\n",
       "      <td>Cumings, Mrs. John Bradley (Florence Briggs Th...</td>\n",
       "      <td>female</td>\n",
       "      <td>38.0</td>\n",
       "      <td>1</td>\n",
       "      <td>0</td>\n",
       "      <td>PC 17599</td>\n",
       "      <td>71.2833</td>\n",
       "      <td>C85</td>\n",
       "      <td>C</td>\n",
       "    </tr>\n",
       "    <tr>\n",
       "      <th>2</th>\n",
       "      <td>3</td>\n",
       "      <td>1</td>\n",
       "      <td>3</td>\n",
       "      <td>Heikkinen, Miss. Laina</td>\n",
       "      <td>female</td>\n",
       "      <td>26.0</td>\n",
       "      <td>0</td>\n",
       "      <td>0</td>\n",
       "      <td>STON/O2. 3101282</td>\n",
       "      <td>7.9250</td>\n",
       "      <td>NaN</td>\n",
       "      <td>S</td>\n",
       "    </tr>\n",
       "    <tr>\n",
       "      <th>3</th>\n",
       "      <td>4</td>\n",
       "      <td>1</td>\n",
       "      <td>1</td>\n",
       "      <td>Futrelle, Mrs. Jacques Heath (Lily May Peel)</td>\n",
       "      <td>female</td>\n",
       "      <td>35.0</td>\n",
       "      <td>1</td>\n",
       "      <td>0</td>\n",
       "      <td>113803</td>\n",
       "      <td>53.1000</td>\n",
       "      <td>C123</td>\n",
       "      <td>S</td>\n",
       "    </tr>\n",
       "    <tr>\n",
       "      <th>4</th>\n",
       "      <td>5</td>\n",
       "      <td>0</td>\n",
       "      <td>3</td>\n",
       "      <td>Allen, Mr. William Henry</td>\n",
       "      <td>male</td>\n",
       "      <td>35.0</td>\n",
       "      <td>0</td>\n",
       "      <td>0</td>\n",
       "      <td>373450</td>\n",
       "      <td>8.0500</td>\n",
       "      <td>NaN</td>\n",
       "      <td>S</td>\n",
       "    </tr>\n",
       "  </tbody>\n",
       "</table>\n",
       "</div>"
      ],
      "text/plain": [
       "   PassengerId  Survived  Pclass  \\\n",
       "0            1         0       3   \n",
       "1            2         1       1   \n",
       "2            3         1       3   \n",
       "3            4         1       1   \n",
       "4            5         0       3   \n",
       "\n",
       "                                                Name     Sex   Age  SibSp  \\\n",
       "0                            Braund, Mr. Owen Harris    male  22.0      1   \n",
       "1  Cumings, Mrs. John Bradley (Florence Briggs Th...  female  38.0      1   \n",
       "2                             Heikkinen, Miss. Laina  female  26.0      0   \n",
       "3       Futrelle, Mrs. Jacques Heath (Lily May Peel)  female  35.0      1   \n",
       "4                           Allen, Mr. William Henry    male  35.0      0   \n",
       "\n",
       "   Parch            Ticket     Fare Cabin Embarked  \n",
       "0      0         A/5 21171   7.2500   NaN        S  \n",
       "1      0          PC 17599  71.2833   C85        C  \n",
       "2      0  STON/O2. 3101282   7.9250   NaN        S  \n",
       "3      0            113803  53.1000  C123        S  \n",
       "4      0            373450   8.0500   NaN        S  "
      ]
     },
     "execution_count": 6,
     "metadata": {},
     "output_type": "execute_result"
    }
   ],
   "source": [
    "train.head()  # .head() function allow us to view the top 5 records of the dataset"
   ]
  },
  {
   "cell_type": "code",
   "execution_count": 7,
   "metadata": {},
   "outputs": [
    {
     "data": {
      "text/html": [
       "<div>\n",
       "<style scoped>\n",
       "    .dataframe tbody tr th:only-of-type {\n",
       "        vertical-align: middle;\n",
       "    }\n",
       "\n",
       "    .dataframe tbody tr th {\n",
       "        vertical-align: top;\n",
       "    }\n",
       "\n",
       "    .dataframe thead th {\n",
       "        text-align: right;\n",
       "    }\n",
       "</style>\n",
       "<table border=\"1\" class=\"dataframe\">\n",
       "  <thead>\n",
       "    <tr style=\"text-align: right;\">\n",
       "      <th></th>\n",
       "      <th>PassengerId</th>\n",
       "      <th>Pclass</th>\n",
       "      <th>Name</th>\n",
       "      <th>Sex</th>\n",
       "      <th>Age</th>\n",
       "      <th>SibSp</th>\n",
       "      <th>Parch</th>\n",
       "      <th>Ticket</th>\n",
       "      <th>Fare</th>\n",
       "      <th>Cabin</th>\n",
       "      <th>Embarked</th>\n",
       "    </tr>\n",
       "  </thead>\n",
       "  <tbody>\n",
       "    <tr>\n",
       "      <th>0</th>\n",
       "      <td>892</td>\n",
       "      <td>3</td>\n",
       "      <td>Kelly, Mr. James</td>\n",
       "      <td>male</td>\n",
       "      <td>34.5</td>\n",
       "      <td>0</td>\n",
       "      <td>0</td>\n",
       "      <td>330911</td>\n",
       "      <td>7.8292</td>\n",
       "      <td>NaN</td>\n",
       "      <td>Q</td>\n",
       "    </tr>\n",
       "    <tr>\n",
       "      <th>1</th>\n",
       "      <td>893</td>\n",
       "      <td>3</td>\n",
       "      <td>Wilkes, Mrs. James (Ellen Needs)</td>\n",
       "      <td>female</td>\n",
       "      <td>47.0</td>\n",
       "      <td>1</td>\n",
       "      <td>0</td>\n",
       "      <td>363272</td>\n",
       "      <td>7.0000</td>\n",
       "      <td>NaN</td>\n",
       "      <td>S</td>\n",
       "    </tr>\n",
       "    <tr>\n",
       "      <th>2</th>\n",
       "      <td>894</td>\n",
       "      <td>2</td>\n",
       "      <td>Myles, Mr. Thomas Francis</td>\n",
       "      <td>male</td>\n",
       "      <td>62.0</td>\n",
       "      <td>0</td>\n",
       "      <td>0</td>\n",
       "      <td>240276</td>\n",
       "      <td>9.6875</td>\n",
       "      <td>NaN</td>\n",
       "      <td>Q</td>\n",
       "    </tr>\n",
       "    <tr>\n",
       "      <th>3</th>\n",
       "      <td>895</td>\n",
       "      <td>3</td>\n",
       "      <td>Wirz, Mr. Albert</td>\n",
       "      <td>male</td>\n",
       "      <td>27.0</td>\n",
       "      <td>0</td>\n",
       "      <td>0</td>\n",
       "      <td>315154</td>\n",
       "      <td>8.6625</td>\n",
       "      <td>NaN</td>\n",
       "      <td>S</td>\n",
       "    </tr>\n",
       "    <tr>\n",
       "      <th>4</th>\n",
       "      <td>896</td>\n",
       "      <td>3</td>\n",
       "      <td>Hirvonen, Mrs. Alexander (Helga E Lindqvist)</td>\n",
       "      <td>female</td>\n",
       "      <td>22.0</td>\n",
       "      <td>1</td>\n",
       "      <td>1</td>\n",
       "      <td>3101298</td>\n",
       "      <td>12.2875</td>\n",
       "      <td>NaN</td>\n",
       "      <td>S</td>\n",
       "    </tr>\n",
       "  </tbody>\n",
       "</table>\n",
       "</div>"
      ],
      "text/plain": [
       "   PassengerId  Pclass                                          Name     Sex  \\\n",
       "0          892       3                              Kelly, Mr. James    male   \n",
       "1          893       3              Wilkes, Mrs. James (Ellen Needs)  female   \n",
       "2          894       2                     Myles, Mr. Thomas Francis    male   \n",
       "3          895       3                              Wirz, Mr. Albert    male   \n",
       "4          896       3  Hirvonen, Mrs. Alexander (Helga E Lindqvist)  female   \n",
       "\n",
       "    Age  SibSp  Parch   Ticket     Fare Cabin Embarked  \n",
       "0  34.5      0      0   330911   7.8292   NaN        Q  \n",
       "1  47.0      1      0   363272   7.0000   NaN        S  \n",
       "2  62.0      0      0   240276   9.6875   NaN        Q  \n",
       "3  27.0      0      0   315154   8.6625   NaN        S  \n",
       "4  22.0      1      1  3101298  12.2875   NaN        S  "
      ]
     },
     "execution_count": 7,
     "metadata": {},
     "output_type": "execute_result"
    }
   ],
   "source": [
    "test.head()"
   ]
  },
  {
   "cell_type": "markdown",
   "metadata": {},
   "source": [
    "#### One important thing to notice from 'Train' & 'Test' dataset is that 'Survived' is the dependent feature that we need to predict and the rest of the features are independent."
   ]
  },
  {
   "cell_type": "code",
   "execution_count": 8,
   "metadata": {},
   "outputs": [
    {
     "name": "stdout",
     "output_type": "stream",
     "text": [
      "(891, 12)\n",
      "(418, 11)\n"
     ]
    }
   ],
   "source": [
    "### Lets check the shape of the dataset \n",
    "\n",
    "print(train.shape) # .shape is an attribute / property of the dataset not a function.\n",
    "print(test.shape) \n",
    "\n",
    "### Output will be in the format of (rows,columns) / \"(records,features)[In a so called sophisticated way]\""
   ]
  },
  {
   "cell_type": "code",
   "execution_count": 9,
   "metadata": {},
   "outputs": [
    {
     "data": {
      "text/html": [
       "<div>\n",
       "<style scoped>\n",
       "    .dataframe tbody tr th:only-of-type {\n",
       "        vertical-align: middle;\n",
       "    }\n",
       "\n",
       "    .dataframe tbody tr th {\n",
       "        vertical-align: top;\n",
       "    }\n",
       "\n",
       "    .dataframe thead th {\n",
       "        text-align: right;\n",
       "    }\n",
       "</style>\n",
       "<table border=\"1\" class=\"dataframe\">\n",
       "  <thead>\n",
       "    <tr style=\"text-align: right;\">\n",
       "      <th></th>\n",
       "      <th>PassengerId</th>\n",
       "      <th>Survived</th>\n",
       "    </tr>\n",
       "  </thead>\n",
       "  <tbody>\n",
       "    <tr>\n",
       "      <th>0</th>\n",
       "      <td>892</td>\n",
       "      <td>0</td>\n",
       "    </tr>\n",
       "    <tr>\n",
       "      <th>1</th>\n",
       "      <td>893</td>\n",
       "      <td>0</td>\n",
       "    </tr>\n",
       "    <tr>\n",
       "      <th>2</th>\n",
       "      <td>894</td>\n",
       "      <td>0</td>\n",
       "    </tr>\n",
       "    <tr>\n",
       "      <th>3</th>\n",
       "      <td>895</td>\n",
       "      <td>0</td>\n",
       "    </tr>\n",
       "    <tr>\n",
       "      <th>4</th>\n",
       "      <td>896</td>\n",
       "      <td>0</td>\n",
       "    </tr>\n",
       "  </tbody>\n",
       "</table>\n",
       "</div>"
      ],
      "text/plain": [
       "   PassengerId  Survived\n",
       "0          892         0\n",
       "1          893         0\n",
       "2          894         0\n",
       "3          895         0\n",
       "4          896         0"
      ]
     },
     "execution_count": 9,
     "metadata": {},
     "output_type": "execute_result"
    }
   ],
   "source": [
    "### let us have a view on the submission format of the competition.\n",
    "\n",
    "gender_submission.head()"
   ]
  },
  {
   "cell_type": "markdown",
   "metadata": {},
   "source": [
    "#### This means we need to format our predictions with respect to 'PassengerId'(unique to every person boarded the ship) and 'Survived' columns(which is the dependent feature)"
   ]
  },
  {
   "cell_type": "markdown",
   "metadata": {},
   "source": [
    "## Lets explore the data for Data Insights or in simple terms Exploratory Data Analyis (E.D.A.)\n",
    "\n",
    "### We will use visualization libraries to gain meaningful insights"
   ]
  },
  {
   "cell_type": "code",
   "execution_count": 10,
   "metadata": {},
   "outputs": [
    {
     "data": {
      "text/plain": [
       "PassengerId      0\n",
       "Survived         0\n",
       "Pclass           0\n",
       "Name             0\n",
       "Sex              0\n",
       "Age            177\n",
       "SibSp            0\n",
       "Parch            0\n",
       "Ticket           0\n",
       "Fare             0\n",
       "Cabin          687\n",
       "Embarked         2\n",
       "dtype: int64"
      ]
     },
     "execution_count": 10,
     "metadata": {},
     "output_type": "execute_result"
    }
   ],
   "source": [
    "#### So, the first thing you should always do is try to look for the amount of null values present in your dataset.\n",
    "\n",
    "train.isnull().sum()\n",
    "\n",
    "### .isnull() is used to know the null values in each column in the dataset\n",
    "### .sum() is used for the summation of all the null values in each column of the dataset"
   ]
  },
  {
   "cell_type": "code",
   "execution_count": 11,
   "metadata": {},
   "outputs": [
    {
     "data": {
      "text/plain": [
       "<AxesSubplot:>"
      ]
     },
     "execution_count": 11,
     "metadata": {},
     "output_type": "execute_result"
    },
    {
     "data": {
      "image/png": "[encoded data removed]",
      "text/plain": [
       "<Figure size 432x288 with 1 Axes>"
      ]
     },
     "metadata": {
      "needs_background": "light"
     },
     "output_type": "display_data"
    }
   ],
   "source": [
    "# Lets plot the above data in a visualization form using visualization libraries that we have earlier imported.\n",
    "\n",
    "sns.heatmap(train.isnull(), yticklabels = False, cbar = False, cmap ='viridis') \n",
    "\n",
    "### 'sns' is the alias that we have used for the seaborn library( you can literally use your name for alias for any libraries you import, but lets go with the standard procedure) and heatmap is an inbuilt function of the library for Data Visualization purpose \n",
    "\n",
    "#### you can use this link 'https://seaborn.pydata.org/' to know more about the library."
   ]
  },
  {
   "cell_type": "markdown",
   "metadata": {},
   "source": [
    "### One more important thing that I have forget to mention is that go through the kaggle course if you are a beginner.\n",
    "\n",
    "### Also Just sign in 'simplilearn.com' for \"Data Science with Python course\" its free for first 90 days, Its really good.\n",
    "\n",
    "### If you like the content in the notebook do UPVOTE, as I am also a beginner and is making a Career Transition.\n",
    "\n",
    "### IF YOU WANT TO LEARN TOGETHER, YOU CAN ALSO CONNECT ME ON LINKEDIN, YOU CAN FIND MY ID IN MY KAGGLE PROFILE."
   ]
  },
  {
   "cell_type": "code",
   "execution_count": 12,
   "metadata": {},
   "outputs": [
    {
     "name": "stdout",
     "output_type": "stream",
     "text": [
      "0    549\n",
      "1    342\n",
      "Name: Survived, dtype: int64\n"
     ]
    },
    {
     "data": {
      "image/png": "[encoded data removed]",
      "text/plain": [
       "<Figure size 432x288 with 1 Axes>"
      ]
     },
     "metadata": {},
     "output_type": "display_data"
    }
   ],
   "source": [
    "# Lets check how many people survived the Titanic Disaster \n",
    "\n",
    "sns.set_style('whitegrid')\n",
    "sns.countplot(x='Survived',data=train)\n",
    "\n",
    "print(train.Survived.value_counts()) #.value_counts() is used to count the records in features/columns"
   ]
  },
  {
   "cell_type": "markdown",
   "metadata": {},
   "source": [
    "#### We can clearly see that 342 people survived the disaster and 549 people not able to survived."
   ]
  },
  {
   "cell_type": "code",
   "execution_count": 13,
   "metadata": {},
   "outputs": [
    {
     "name": "stdout",
     "output_type": "stream",
     "text": [
      "3    491\n",
      "1    216\n",
      "2    184\n",
      "Name: Pclass, dtype: int64\n"
     ]
    },
    {
     "data": {
      "image/png": "[encoded data removed]",
      "text/plain": [
       "<Figure size 432x288 with 1 Axes>"
      ]
     },
     "metadata": {},
     "output_type": "display_data"
    }
   ],
   "source": [
    "# Lets check the Pclass (Passenger Class) of the people who boarded the ship\n",
    "\n",
    "sns.set_style('whitegrid')\n",
    "sns.countplot(x='Pclass',data=train)\n",
    "\n",
    "print(train.Pclass.value_counts())"
   ]
  },
  {
   "cell_type": "markdown",
   "metadata": {},
   "source": [
    "#### We can cleary say that max. no. of passengers are from Pclass-3, followed by Pclass-1 and Pclass-2"
   ]
  },
  {
   "cell_type": "code",
   "execution_count": 14,
   "metadata": {},
   "outputs": [
    {
     "data": {
      "text/plain": [
       "<AxesSubplot:xlabel='Survived', ylabel='count'>"
      ]
     },
     "execution_count": 14,
     "metadata": {},
     "output_type": "execute_result"
    },
    {
     "data": {
      "image/png": "[encoded data removed]",
      "text/plain": [
       "<Figure size 432x288 with 1 Axes>"
      ]
     },
     "metadata": {},
     "output_type": "display_data"
    }
   ],
   "source": [
    "# Lets check the Survived feature with respect to the Pclass to find any realtion between the two\n",
    "\n",
    "sns.set_style('whitegrid')\n",
    "sns.countplot(x='Survived',hue='Pclass',data=train,palette='rainbow')"
   ]
  },
  {
   "cell_type": "markdown",
   "metadata": {},
   "source": [
    "#### we can come to the conclusion that 'Among the Survived people, max. are from Pclass-1' and 'Among the people who had not survived, max. are from Pclass-3'"
   ]
  },
  {
   "cell_type": "code",
   "execution_count": 15,
   "metadata": {},
   "outputs": [
    {
     "name": "stdout",
     "output_type": "stream",
     "text": [
      "male      577\n",
      "female    314\n",
      "Name: Sex, dtype: int64\n"
     ]
    },
    {
     "data": {
      "image/png": "[encoded data removed]",
      "text/plain": [
       "<Figure size 432x288 with 1 Axes>"
      ]
     },
     "metadata": {},
     "output_type": "display_data"
    }
   ],
   "source": [
    "# Now let us have a look in the number of male and female who boarded the ship.\n",
    "\n",
    "sns.set_style('darkgrid')\n",
    "sns.countplot(x='Sex',data=train)\n",
    "\n",
    "print(train.Sex.value_counts())"
   ]
  },
  {
   "cell_type": "markdown",
   "metadata": {},
   "source": [
    "#### We can say that max. number of passengers are male"
   ]
  },
  {
   "cell_type": "code",
   "execution_count": 16,
   "metadata": {},
   "outputs": [
    {
     "data": {
      "text/plain": [
       "<AxesSubplot:xlabel='Survived', ylabel='count'>"
      ]
     },
     "execution_count": 16,
     "metadata": {},
     "output_type": "execute_result"
    },
    {
     "data": {
      "image/png": "[encoded data removed]",
      "text/plain": [
       "<Figure size 432x288 with 1 Axes>"
      ]
     },
     "metadata": {},
     "output_type": "display_data"
    }
   ],
   "source": [
    "# Lets check the Survived feature with respect to the Sex feature to find any realtion between the two\n",
    "\n",
    "sns.set_style('whitegrid')\n",
    "sns.countplot(x='Survived',hue='Sex',data=train,palette='rainbow')"
   ]
  },
  {
   "cell_type": "markdown",
   "metadata": {},
   "source": [
    "#### We can clearly conclude that among people who survived the disaster, max. were female gender"
   ]
  },
  {
   "cell_type": "code",
   "execution_count": 17,
   "metadata": {},
   "outputs": [
    {
     "data": {
      "text/plain": [
       "24.00    30\n",
       "22.00    27\n",
       "18.00    26\n",
       "28.00    25\n",
       "19.00    25\n",
       "30.00    25\n",
       "21.00    24\n",
       "25.00    23\n",
       "36.00    22\n",
       "29.00    20\n",
       "35.00    18\n",
       "32.00    18\n",
       "27.00    18\n",
       "26.00    18\n",
       "16.00    17\n",
       "31.00    17\n",
       "33.00    15\n",
       "34.00    15\n",
       "23.00    15\n",
       "20.00    15\n",
       "39.00    14\n",
       "42.00    13\n",
       "40.00    13\n",
       "17.00    13\n",
       "45.00    12\n",
       "38.00    11\n",
       "4.00     10\n",
       "2.00     10\n",
       "50.00    10\n",
       "47.00     9\n",
       "48.00     9\n",
       "44.00     9\n",
       "9.00      8\n",
       "54.00     8\n",
       "51.00     7\n",
       "1.00      7\n",
       "14.00     6\n",
       "3.00      6\n",
       "41.00     6\n",
       "37.00     6\n",
       "52.00     6\n",
       "49.00     6\n",
       "15.00     5\n",
       "43.00     5\n",
       "58.00     5\n",
       "8.00      4\n",
       "60.00     4\n",
       "11.00     4\n",
       "56.00     4\n",
       "5.00      4\n",
       "62.00     4\n",
       "65.00     3\n",
       "7.00      3\n",
       "61.00     3\n",
       "46.00     3\n",
       "6.00      3\n",
       "40.50     2\n",
       "10.00     2\n",
       "0.75      2\n",
       "30.50     2\n",
       "64.00     2\n",
       "32.50     2\n",
       "0.83      2\n",
       "59.00     2\n",
       "70.00     2\n",
       "63.00     2\n",
       "28.50     2\n",
       "71.00     2\n",
       "13.00     2\n",
       "57.00     2\n",
       "55.00     2\n",
       "45.50     2\n",
       "24.50     1\n",
       "66.00     1\n",
       "20.50     1\n",
       "0.67      1\n",
       "80.00     1\n",
       "14.50     1\n",
       "34.50     1\n",
       "23.50     1\n",
       "53.00     1\n",
       "36.50     1\n",
       "0.42      1\n",
       "55.50     1\n",
       "74.00     1\n",
       "0.92      1\n",
       "70.50     1\n",
       "12.00     1\n",
       "Name: Age, dtype: int64"
      ]
     },
     "execution_count": 17,
     "metadata": {},
     "output_type": "execute_result"
    }
   ],
   "source": [
    "# Lets check the Age feature \n",
    "pd.set_option('display.max_rows',88) # pandas function to display all rows\n",
    "train.Age.value_counts()"
   ]
  },
  {
   "cell_type": "code",
   "execution_count": 18,
   "metadata": {},
   "outputs": [
    {
     "data": {
      "text/plain": [
       "177"
      ]
     },
     "execution_count": 18,
     "metadata": {},
     "output_type": "execute_result"
    }
   ],
   "source": [
    "# Also lets have a look on the null values present\n",
    "train.Age.isnull().sum()"
   ]
  },
  {
   "cell_type": "markdown",
   "metadata": {},
   "source": [
    "#### So, there are 177 records where the Age data is missing"
   ]
  },
  {
   "cell_type": "code",
   "execution_count": 19,
   "metadata": {},
   "outputs": [
    {
     "data": {
      "text/plain": [
       "<AxesSubplot:xlabel='Age', ylabel='Count'>"
      ]
     },
     "execution_count": 19,
     "metadata": {},
     "output_type": "execute_result"
    },
    {
     "data": {
      "image/png": "[encoded data removed]",
      "text/plain": [
       "<Figure size 432x288 with 1 Axes>"
      ]
     },
     "metadata": {},
     "output_type": "display_data"
    }
   ],
   "source": [
    "# Lets check the distribution of the Age Data by plotting a histogram \n",
    "\n",
    "sns.set_style('darkgrid')\n",
    "sns.histplot(train['Age'].dropna(),bins=40,color='blue',kde=True)\n"
   ]
  },
  {
   "cell_type": "code",
   "execution_count": 20,
   "metadata": {},
   "outputs": [
    {
     "data": {
      "text/plain": [
       "<AxesSubplot:>"
      ]
     },
     "execution_count": 20,
     "metadata": {},
     "output_type": "execute_result"
    },
    {
     "data": {
      "image/png": "[encoded data removed]",
      "text/plain": [
       "<Figure size 432x288 with 1 Axes>"
      ]
     },
     "metadata": {},
     "output_type": "display_data"
    }
   ],
   "source": [
    "# You can also do the same with the matplotlib library\n",
    "\n",
    "train['Age'].hist(bins=40,color='darkred',alpha=0.85)"
   ]
  },
  {
   "cell_type": "markdown",
   "metadata": {},
   "source": [
    "#### we can cleary see that among the Age data available to us, max. passengers who boarded the ship is between (20-40) years age bracket."
   ]
  },
  {
   "cell_type": "code",
   "execution_count": 21,
   "metadata": {},
   "outputs": [
    {
     "data": {
      "text/html": [
       "<div>\n",
       "<style scoped>\n",
       "    .dataframe tbody tr th:only-of-type {\n",
       "        vertical-align: middle;\n",
       "    }\n",
       "\n",
       "    .dataframe tbody tr th {\n",
       "        vertical-align: top;\n",
       "    }\n",
       "\n",
       "    .dataframe thead th {\n",
       "        text-align: right;\n",
       "    }\n",
       "</style>\n",
       "<table border=\"1\" class=\"dataframe\">\n",
       "  <thead>\n",
       "    <tr style=\"text-align: right;\">\n",
       "      <th></th>\n",
       "      <th>PassengerId</th>\n",
       "      <th>Survived</th>\n",
       "      <th>Pclass</th>\n",
       "      <th>Age</th>\n",
       "      <th>SibSp</th>\n",
       "      <th>Parch</th>\n",
       "      <th>Fare</th>\n",
       "    </tr>\n",
       "  </thead>\n",
       "  <tbody>\n",
       "    <tr>\n",
       "      <th>count</th>\n",
       "      <td>891.000000</td>\n",
       "      <td>891.000000</td>\n",
       "      <td>891.000000</td>\n",
       "      <td>714.000000</td>\n",
       "      <td>891.000000</td>\n",
       "      <td>891.000000</td>\n",
       "      <td>891.000000</td>\n",
       "    </tr>\n",
       "    <tr>\n",
       "      <th>mean</th>\n",
       "      <td>446.000000</td>\n",
       "      <td>0.383838</td>\n",
       "      <td>2.308642</td>\n",
       "      <td>29.699118</td>\n",
       "      <td>0.523008</td>\n",
       "      <td>0.381594</td>\n",
       "      <td>32.204208</td>\n",
       "    </tr>\n",
       "    <tr>\n",
       "      <th>std</th>\n",
       "      <td>257.353842</td>\n",
       "      <td>0.486592</td>\n",
       "      <td>0.836071</td>\n",
       "      <td>14.526497</td>\n",
       "      <td>1.102743</td>\n",
       "      <td>0.806057</td>\n",
       "      <td>49.693429</td>\n",
       "    </tr>\n",
       "    <tr>\n",
       "      <th>min</th>\n",
       "      <td>1.000000</td>\n",
       "      <td>0.000000</td>\n",
       "      <td>1.000000</td>\n",
       "      <td>0.420000</td>\n",
       "      <td>0.000000</td>\n",
       "      <td>0.000000</td>\n",
       "      <td>0.000000</td>\n",
       "    </tr>\n",
       "    <tr>\n",
       "      <th>25%</th>\n",
       "      <td>223.500000</td>\n",
       "      <td>0.000000</td>\n",
       "      <td>2.000000</td>\n",
       "      <td>20.125000</td>\n",
       "      <td>0.000000</td>\n",
       "      <td>0.000000</td>\n",
       "      <td>7.910400</td>\n",
       "    </tr>\n",
       "    <tr>\n",
       "      <th>50%</th>\n",
       "      <td>446.000000</td>\n",
       "      <td>0.000000</td>\n",
       "      <td>3.000000</td>\n",
       "      <td>28.000000</td>\n",
       "      <td>0.000000</td>\n",
       "      <td>0.000000</td>\n",
       "      <td>14.454200</td>\n",
       "    </tr>\n",
       "    <tr>\n",
       "      <th>75%</th>\n",
       "      <td>668.500000</td>\n",
       "      <td>1.000000</td>\n",
       "      <td>3.000000</td>\n",
       "      <td>38.000000</td>\n",
       "      <td>1.000000</td>\n",
       "      <td>0.000000</td>\n",
       "      <td>31.000000</td>\n",
       "    </tr>\n",
       "    <tr>\n",
       "      <th>max</th>\n",
       "      <td>891.000000</td>\n",
       "      <td>1.000000</td>\n",
       "      <td>3.000000</td>\n",
       "      <td>80.000000</td>\n",
       "      <td>8.000000</td>\n",
       "      <td>6.000000</td>\n",
       "      <td>512.329200</td>\n",
       "    </tr>\n",
       "  </tbody>\n",
       "</table>\n",
       "</div>"
      ],
      "text/plain": [
       "       PassengerId    Survived      Pclass         Age       SibSp  \\\n",
       "count   891.000000  891.000000  891.000000  714.000000  891.000000   \n",
       "mean    446.000000    0.383838    2.308642   29.699118    0.523008   \n",
       "std     257.353842    0.486592    0.836071   14.526497    1.102743   \n",
       "min       1.000000    0.000000    1.000000    0.420000    0.000000   \n",
       "25%     223.500000    0.000000    2.000000   20.125000    0.000000   \n",
       "50%     446.000000    0.000000    3.000000   28.000000    0.000000   \n",
       "75%     668.500000    1.000000    3.000000   38.000000    1.000000   \n",
       "max     891.000000    1.000000    3.000000   80.000000    8.000000   \n",
       "\n",
       "            Parch        Fare  \n",
       "count  891.000000  891.000000  \n",
       "mean     0.381594   32.204208  \n",
       "std      0.806057   49.693429  \n",
       "min      0.000000    0.000000  \n",
       "25%      0.000000    7.910400  \n",
       "50%      0.000000   14.454200  \n",
       "75%      0.000000   31.000000  \n",
       "max      6.000000  512.329200  "
      ]
     },
     "execution_count": 21,
     "metadata": {},
     "output_type": "execute_result"
    }
   ],
   "source": [
    "# Lets know our data in dataset in a statistical way and terms\n",
    "\n",
    "train.describe()"
   ]
  },
  {
   "cell_type": "code",
   "execution_count": 22,
   "metadata": {},
   "outputs": [
    {
     "name": "stdout",
     "output_type": "stream",
     "text": [
      "<class 'pandas.core.frame.DataFrame'>\n",
      "RangeIndex: 891 entries, 0 to 890\n",
      "Data columns (total 12 columns):\n",
      " #   Column       Non-Null Count  Dtype  \n",
      "---  ------       --------------  -----  \n",
      " 0   PassengerId  891 non-null    int64  \n",
      " 1   Survived     891 non-null    int64  \n",
      " 2   Pclass       891 non-null    int64  \n",
      " 3   Name         891 non-null    object \n",
      " 4   Sex          891 non-null    object \n",
      " 5   Age          714 non-null    float64\n",
      " 6   SibSp        891 non-null    int64  \n",
      " 7   Parch        891 non-null    int64  \n",
      " 8   Ticket       891 non-null    object \n",
      " 9   Fare         891 non-null    float64\n",
      " 10  Cabin        204 non-null    object \n",
      " 11  Embarked     889 non-null    object \n",
      "dtypes: float64(2), int64(5), object(5)\n",
      "memory usage: 83.7+ KB\n"
     ]
    }
   ],
   "source": [
    "# Also lets have a look in their datatypes that will help us later in data cleaning/feature engineering\n",
    "\n",
    "train.info()"
   ]
  },
  {
   "cell_type": "code",
   "execution_count": 23,
   "metadata": {},
   "outputs": [
    {
     "data": {
      "text/plain": [
       "<AxesSubplot:xlabel='Pclass', ylabel='Age'>"
      ]
     },
     "execution_count": 23,
     "metadata": {},
     "output_type": "execute_result"
    },
    {
     "data": {
      "image/png": "[encoded data removed]",
      "text/plain": [
       "<Figure size 432x288 with 1 Axes>"
      ]
     },
     "metadata": {},
     "output_type": "display_data"
    }
   ],
   "source": [
    "# Lets check if there is any relation of Pclass with respect to Age feature so that we can derive a condition to replace the missing values in the Age data records\n",
    "sns.set_style('whitegrid')\n",
    "sns.boxplot(x='Pclass',y='Age',data=train,palette='rainbow')"
   ]
  },
  {
   "cell_type": "code",
   "execution_count": 24,
   "metadata": {},
   "outputs": [
    {
     "name": "stdout",
     "output_type": "stream",
     "text": [
      "0    608\n",
      "1    209\n",
      "2     28\n",
      "4     18\n",
      "3     16\n",
      "8      7\n",
      "5      5\n",
      "Name: SibSp, dtype: int64\n"
     ]
    },
    {
     "data": {
      "image/png": "[encoded data removed]",
      "text/plain": [
       "<Figure size 432x288 with 1 Axes>"
      ]
     },
     "metadata": {},
     "output_type": "display_data"
    }
   ],
   "source": [
    "# Lets check the 'Sibsp' feature i.e (Siblings+spouse)\n",
    "\n",
    "sns.set_style('whitegrid')\n",
    "sns.countplot(y='SibSp',data=train)\n",
    "\n",
    "print(train.SibSp.value_counts())"
   ]
  },
  {
   "cell_type": "markdown",
   "metadata": {},
   "source": [
    "#### we can say that max. no. of passengers didn't have a siblings and spouse"
   ]
  },
  {
   "cell_type": "code",
   "execution_count": 25,
   "metadata": {},
   "outputs": [
    {
     "name": "stdout",
     "output_type": "stream",
     "text": [
      "0    678\n",
      "1    118\n",
      "2     80\n",
      "3      5\n",
      "5      5\n",
      "4      4\n",
      "6      1\n",
      "Name: Parch, dtype: int64\n"
     ]
    },
    {
     "data": {
      "image/png": "[encoded data removed]",
      "text/plain": [
       "<Figure size 432x288 with 1 Axes>"
      ]
     },
     "metadata": {},
     "output_type": "display_data"
    }
   ],
   "source": [
    "# Lets have a look on Parch (The number of parents/children the passenger boarded the ship) feature\n",
    "\n",
    "sns.set_style('whitegrid')\n",
    "sns.countplot(x='Parch',data=train,palette='rainbow')\n",
    "\n",
    "print(train.Parch.value_counts())"
   ]
  },
  {
   "cell_type": "markdown",
   "metadata": {},
   "source": [
    "#### We can say that max. no. of passengers didn't have parents/children aboarded with them."
   ]
  },
  {
   "cell_type": "code",
   "execution_count": 26,
   "metadata": {},
   "outputs": [
    {
     "data": {
      "text/plain": [
       "CA. 2343      7\n",
       "1601          7\n",
       "347082        7\n",
       "CA 2144       6\n",
       "3101295       6\n",
       "             ..\n",
       "C.A. 18723    1\n",
       "2623          1\n",
       "36963         1\n",
       "SO/C 14885    1\n",
       "349912        1\n",
       "Name: Ticket, Length: 681, dtype: int64"
      ]
     },
     "execution_count": 26,
     "metadata": {},
     "output_type": "execute_result"
    }
   ],
   "source": [
    "#  lets check the ticket column to gain insights\n",
    "\n",
    "train.Ticket.value_counts()"
   ]
  },
  {
   "cell_type": "code",
   "execution_count": 27,
   "metadata": {},
   "outputs": [
    {
     "data": {
      "text/plain": [
       "array(['A/5 21171', 'PC 17599', 'STON/O2. 3101282', '113803', '373450',\n",
       "       '330877', '17463', '349909', '347742', '237736', 'PP 9549',\n",
       "       '113783', 'A/5. 2151', '347082', '350406', '248706', '382652',\n",
       "       '244373', '345763', '2649', '239865', '248698', '330923', '113788',\n",
       "       '347077', '2631', '19950', '330959', '349216', 'PC 17601',\n",
       "       'PC 17569', '335677', 'C.A. 24579', 'PC 17604', '113789', '2677',\n",
       "       'A./5. 2152', '345764', '2651', '7546', '11668', '349253',\n",
       "       'SC/Paris 2123', '330958', 'S.C./A.4. 23567', '370371', '14311',\n",
       "       '2662', '349237', '3101295', 'A/4. 39886', 'PC 17572', '2926',\n",
       "       '113509', '19947', 'C.A. 31026', '2697', 'C.A. 34651', 'CA 2144',\n",
       "       '2669', '113572', '36973', '347088', 'PC 17605', '2661',\n",
       "       'C.A. 29395', 'S.P. 3464', '3101281', '315151', 'C.A. 33111',\n",
       "       'S.O.C. 14879', '2680', '1601', '348123', '349208', '374746',\n",
       "       '248738', '364516', '345767', '345779', '330932', '113059',\n",
       "       'SO/C 14885', '3101278', 'W./C. 6608', 'SOTON/OQ 392086', '343275',\n",
       "       '343276', '347466', 'W.E.P. 5734', 'C.A. 2315', '364500', '374910',\n",
       "       'PC 17754', 'PC 17759', '231919', '244367', '349245', '349215',\n",
       "       '35281', '7540', '3101276', '349207', '343120', '312991', '349249',\n",
       "       '371110', '110465', '2665', '324669', '4136', '2627',\n",
       "       'STON/O 2. 3101294', '370369', 'PC 17558', 'A4. 54510', '27267',\n",
       "       '370372', 'C 17369', '2668', '347061', '349241',\n",
       "       'SOTON/O.Q. 3101307', 'A/5. 3337', '228414', 'C.A. 29178',\n",
       "       'SC/PARIS 2133', '11752', '7534', 'PC 17593', '2678', '347081',\n",
       "       'STON/O2. 3101279', '365222', '231945', 'C.A. 33112', '350043',\n",
       "       '230080', '244310', 'S.O.P. 1166', '113776', 'A.5. 11206',\n",
       "       'A/5. 851', 'Fa 265302', 'PC 17597', '35851', 'SOTON/OQ 392090',\n",
       "       '315037', 'CA. 2343', '371362', 'C.A. 33595', '347068', '315093',\n",
       "       '363291', '113505', 'PC 17318', '111240', 'STON/O 2. 3101280',\n",
       "       '17764', '350404', '4133', 'PC 17595', '250653', 'LINE',\n",
       "       'SC/PARIS 2131', '230136', '315153', '113767', '370365', '111428',\n",
       "       '364849', '349247', '234604', '28424', '350046', 'PC 17610',\n",
       "       '368703', '4579', '370370', '248747', '345770', '3101264', '2628',\n",
       "       'A/5 3540', '347054', '2699', '367231', '112277',\n",
       "       'SOTON/O.Q. 3101311', 'F.C.C. 13528', 'A/5 21174', '250646',\n",
       "       '367229', '35273', 'STON/O2. 3101283', '243847', '11813',\n",
       "       'W/C 14208', 'SOTON/OQ 392089', '220367', '21440', '349234',\n",
       "       '19943', 'PP 4348', 'SW/PP 751', 'A/5 21173', '236171', '347067',\n",
       "       '237442', 'C.A. 29566', 'W./C. 6609', '26707', 'C.A. 31921',\n",
       "       '28665', 'SCO/W 1585', '367230', 'W./C. 14263',\n",
       "       'STON/O 2. 3101275', '2694', '19928', '347071', '250649', '11751',\n",
       "       '244252', '362316', '113514', 'A/5. 3336', '370129', '2650',\n",
       "       'PC 17585', '110152', 'PC 17755', '230433', '384461', '110413',\n",
       "       '112059', '382649', 'C.A. 17248', '347083', 'PC 17582', 'PC 17760',\n",
       "       '113798', '250644', 'PC 17596', '370375', '13502', '347073',\n",
       "       '239853', 'C.A. 2673', '336439', '347464', '345778', 'A/5. 10482',\n",
       "       '113056', '349239', '345774', '349206', '237798', '370373',\n",
       "       '19877', '11967', 'SC/Paris 2163', '349236', '349233', 'PC 17612',\n",
       "       '2693', '113781', '19988', '9234', '367226', '226593', 'A/5 2466',\n",
       "       '17421', 'PC 17758', 'P/PP 3381', 'PC 17485', '11767', 'PC 17608',\n",
       "       '250651', '349243', 'F.C.C. 13529', '347470', '29011', '36928',\n",
       "       '16966', 'A/5 21172', '349219', '234818', '345364', '28551',\n",
       "       '111361', '113043', 'PC 17611', '349225', '7598', '113784',\n",
       "       '248740', '244361', '229236', '248733', '31418', '386525',\n",
       "       'C.A. 37671', '315088', '7267', '113510', '2695', '2647', '345783',\n",
       "       '237671', '330931', '330980', 'SC/PARIS 2167', '2691',\n",
       "       'SOTON/O.Q. 3101310', 'C 7076', '110813', '2626', '14313',\n",
       "       'PC 17477', '11765', '3101267', '323951', 'C 7077', '113503',\n",
       "       '2648', '347069', 'PC 17757', '2653', 'STON/O 2. 3101293',\n",
       "       '349227', '27849', '367655', 'SC 1748', '113760', '350034',\n",
       "       '3101277', '350052', '350407', '28403', '244278', '240929',\n",
       "       'STON/O 2. 3101289', '341826', '4137', '315096', '28664', '347064',\n",
       "       '29106', '312992', '349222', '394140', 'STON/O 2. 3101269',\n",
       "       '343095', '28220', '250652', '28228', '345773', '349254',\n",
       "       'A/5. 13032', '315082', '347080', 'A/4. 34244', '2003', '250655',\n",
       "       '364851', 'SOTON/O.Q. 392078', '110564', '376564', 'SC/AH 3085',\n",
       "       'STON/O 2. 3101274', '13507', 'C.A. 18723', '345769', '347076',\n",
       "       '230434', '65306', '33638', '113794', '2666', '113786', '65303',\n",
       "       '113051', '17453', 'A/5 2817', '349240', '13509', '17464',\n",
       "       'F.C.C. 13531', '371060', '19952', '364506', '111320', '234360',\n",
       "       'A/S 2816', 'SOTON/O.Q. 3101306', '113792', '36209', '323592',\n",
       "       '315089', 'SC/AH Basle 541', '7553', '31027', '3460', '350060',\n",
       "       '3101298', '239854', 'A/5 3594', '4134', '11771', 'A.5. 18509',\n",
       "       '65304', 'SOTON/OQ 3101317', '113787', 'PC 17609', 'A/4 45380',\n",
       "       '36947', 'C.A. 6212', '350035', '315086', '364846', '330909',\n",
       "       '4135', '26360', '111427', 'C 4001', '382651', 'SOTON/OQ 3101316',\n",
       "       'PC 17473', 'PC 17603', '349209', '36967', 'C.A. 34260', '226875',\n",
       "       '349242', '12749', '349252', '2624', '2700', '367232',\n",
       "       'W./C. 14258', 'PC 17483', '3101296', '29104', '2641', '2690',\n",
       "       '315084', '113050', 'PC 17761', '364498', '13568', 'WE/P 5735',\n",
       "       '2908', '693', 'SC/PARIS 2146', '244358', '330979', '2620',\n",
       "       '347085', '113807', '11755', '345572', '372622', '349251',\n",
       "       '218629', 'SOTON/OQ 392082', 'SOTON/O.Q. 392087', 'A/4 48871',\n",
       "       '349205', '2686', '350417', 'S.W./PP 752', '11769', 'PC 17474',\n",
       "       '14312', 'A/4. 20589', '358585', '243880', '2689',\n",
       "       'STON/O 2. 3101286', '237789', '13049', '3411', '237565', '13567',\n",
       "       '14973', 'A./5. 3235', 'STON/O 2. 3101273', 'A/5 3902', '364848',\n",
       "       'SC/AH 29037', '248727', '2664', '349214', '113796', '364511',\n",
       "       '111426', '349910', '349246', '113804', 'SOTON/O.Q. 3101305',\n",
       "       '370377', '364512', '220845', '31028', '2659', '11753', '350029',\n",
       "       '54636', '36963', '219533', '349224', '334912', '27042', '347743',\n",
       "       '13214', '112052', '237668', 'STON/O 2. 3101292', '350050',\n",
       "       '349231', '13213', 'S.O./P.P. 751', 'CA. 2314', '349221', '8475',\n",
       "       '330919', '365226', '349223', '29751', '2623', '5727', '349210',\n",
       "       'STON/O 2. 3101285', '234686', '312993', 'A/5 3536', '19996',\n",
       "       '29750', 'F.C. 12750', 'C.A. 24580', '244270', '239856', '349912',\n",
       "       '342826', '4138', '330935', '6563', '349228', '350036', '24160',\n",
       "       '17474', '349256', '2672', '113800', '248731', '363592', '35852',\n",
       "       '348121', 'PC 17475', '36864', '350025', '223596', 'PC 17476',\n",
       "       'PC 17482', '113028', '7545', '250647', '348124', '34218', '36568',\n",
       "       '347062', '350048', '12233', '250643', '113806', '315094', '36866',\n",
       "       '236853', 'STON/O2. 3101271', '239855', '28425', '233639',\n",
       "       '349201', '349218', '16988', '376566', 'STON/O 2. 3101288',\n",
       "       '250648', '113773', '335097', '29103', '392096', '345780',\n",
       "       '349204', '350042', '29108', '363294', 'SOTON/O2 3101272', '2663',\n",
       "       '347074', '112379', '364850', '8471', '345781', '350047',\n",
       "       'S.O./P.P. 3', '2674', '29105', '347078', '383121', '36865',\n",
       "       '2687', '113501', 'W./C. 6607', 'SOTON/O.Q. 3101312', '374887',\n",
       "       '3101265', '12460', 'PC 17600', '349203', '28213', '17465',\n",
       "       '349244', '2685', '2625', '347089', '347063', '112050', '347087',\n",
       "       '248723', '3474', '28206', '364499', '112058', 'STON/O2. 3101290',\n",
       "       'S.C./PARIS 2079', 'C 7075', '315098', '19972', '368323', '367228',\n",
       "       '2671', '347468', '2223', 'PC 17756', '315097', '392092', '11774',\n",
       "       'SOTON/O2 3101287', '2683', '315090', 'C.A. 5547', '349213',\n",
       "       '347060', 'PC 17592', '392091', '113055', '2629', '350026',\n",
       "       '28134', '17466', '233866', '236852', 'SC/PARIS 2149', 'PC 17590',\n",
       "       '345777', '349248', '695', '345765', '2667', '349212', '349217',\n",
       "       '349257', '7552', 'C.A./SOTON 34068', 'SOTON/OQ 392076', '211536',\n",
       "       '112053', '111369', '370376'], dtype=object)"
      ]
     },
     "execution_count": 27,
     "metadata": {},
     "output_type": "execute_result"
    }
   ],
   "source": [
    "train.Ticket.unique()"
   ]
  },
  {
   "cell_type": "markdown",
   "metadata": {},
   "source": [
    "#### List of all the unique tickets"
   ]
  },
  {
   "cell_type": "code",
   "execution_count": 28,
   "metadata": {},
   "outputs": [
    {
     "name": "stdout",
     "output_type": "stream",
     "text": [
      "248\n",
      "0\n"
     ]
    }
   ],
   "source": [
    "# Lets have a look in the Fare feature\n",
    "\n",
    "print(len(train.Fare.unique()))\n",
    "print(train.Fare.isnull().sum())"
   ]
  },
  {
   "cell_type": "markdown",
   "metadata": {},
   "source": [
    "#### There are 248 unique fare recorded in the dataset "
   ]
  },
  {
   "cell_type": "code",
   "execution_count": 29,
   "metadata": {},
   "outputs": [
    {
     "data": {
      "text/plain": [
       "687"
      ]
     },
     "execution_count": 29,
     "metadata": {},
     "output_type": "execute_result"
    }
   ],
   "source": [
    "# Lets now check the Cabin Feature for the datset\n",
    "\n",
    "train.Cabin.isnull().sum()"
   ]
  },
  {
   "cell_type": "markdown",
   "metadata": {},
   "source": [
    "#### So, there are 687 missing records in the Cabin feature, so during model building we will drop the column since max. values are missing and there is no way we can impute or find relation or know about these missing values"
   ]
  },
  {
   "cell_type": "code",
   "execution_count": 30,
   "metadata": {},
   "outputs": [
    {
     "name": "stdout",
     "output_type": "stream",
     "text": [
      "S    644\n",
      "C    168\n",
      "Q     77\n",
      "Name: Embarked, dtype: int64\n"
     ]
    },
    {
     "data": {
      "text/plain": [
       "<AxesSubplot:xlabel='count', ylabel='Embarked'>"
      ]
     },
     "execution_count": 30,
     "metadata": {},
     "output_type": "execute_result"
    },
    {
     "data": {
      "image/png": "[encoded data removed]",
      "text/plain": [
       "<Figure size 432x288 with 1 Axes>"
      ]
     },
     "metadata": {},
     "output_type": "display_data"
    }
   ],
   "source": [
    "# Lets check the last column in our dataset i.e. Embarked (meaning from which place passengers boarded the ship)\n",
    "\n",
    "print(train.Embarked.value_counts())\n",
    "\n",
    "sns.countplot(y='Embarked', data=train)"
   ]
  },
  {
   "cell_type": "code",
   "execution_count": 31,
   "metadata": {},
   "outputs": [],
   "source": [
    "train['Age'] = train['Age'].fillna(train['Age'].median())"
   ]
  },
  {
   "cell_type": "code",
   "execution_count": 32,
   "metadata": {},
   "outputs": [
    {
     "data": {
      "text/plain": [
       "<AxesSubplot:>"
      ]
     },
     "execution_count": 32,
     "metadata": {},
     "output_type": "execute_result"
    },
    {
     "data": {
      "image/png": "[encoded data removed]",
      "text/plain": [
       "<Figure size 432x288 with 1 Axes>"
      ]
     },
     "metadata": {},
     "output_type": "display_data"
    }
   ],
   "source": [
    "sns.heatmap(train.isnull(), yticklabels= False, cbar= False, cmap= 'coolwarm')"
   ]
  },
  {
   "cell_type": "code",
   "execution_count": 33,
   "metadata": {},
   "outputs": [],
   "source": [
    "train = train.drop('Cabin', axis=1)"
   ]
  },
  {
   "cell_type": "code",
   "execution_count": 34,
   "metadata": {},
   "outputs": [
    {
     "data": {
      "text/html": [
       "<div>\n",
       "<style scoped>\n",
       "    .dataframe tbody tr th:only-of-type {\n",
       "        vertical-align: middle;\n",
       "    }\n",
       "\n",
       "    .dataframe tbody tr th {\n",
       "        vertical-align: top;\n",
       "    }\n",
       "\n",
       "    .dataframe thead th {\n",
       "        text-align: right;\n",
       "    }\n",
       "</style>\n",
       "<table border=\"1\" class=\"dataframe\">\n",
       "  <thead>\n",
       "    <tr style=\"text-align: right;\">\n",
       "      <th></th>\n",
       "      <th>PassengerId</th>\n",
       "      <th>Survived</th>\n",
       "      <th>Pclass</th>\n",
       "      <th>Name</th>\n",
       "      <th>Sex</th>\n",
       "      <th>Age</th>\n",
       "      <th>SibSp</th>\n",
       "      <th>Parch</th>\n",
       "      <th>Ticket</th>\n",
       "      <th>Fare</th>\n",
       "      <th>Embarked</th>\n",
       "    </tr>\n",
       "  </thead>\n",
       "  <tbody>\n",
       "    <tr>\n",
       "      <th>0</th>\n",
       "      <td>1</td>\n",
       "      <td>0</td>\n",
       "      <td>3</td>\n",
       "      <td>Braund, Mr. Owen Harris</td>\n",
       "      <td>male</td>\n",
       "      <td>22.0</td>\n",
       "      <td>1</td>\n",
       "      <td>0</td>\n",
       "      <td>A/5 21171</td>\n",
       "      <td>7.2500</td>\n",
       "      <td>S</td>\n",
       "    </tr>\n",
       "    <tr>\n",
       "      <th>1</th>\n",
       "      <td>2</td>\n",
       "      <td>1</td>\n",
       "      <td>1</td>\n",
       "      <td>Cumings, Mrs. John Bradley (Florence Briggs Th...</td>\n",
       "      <td>female</td>\n",
       "      <td>38.0</td>\n",
       "      <td>1</td>\n",
       "      <td>0</td>\n",
       "      <td>PC 17599</td>\n",
       "      <td>71.2833</td>\n",
       "      <td>C</td>\n",
       "    </tr>\n",
       "    <tr>\n",
       "      <th>2</th>\n",
       "      <td>3</td>\n",
       "      <td>1</td>\n",
       "      <td>3</td>\n",
       "      <td>Heikkinen, Miss. Laina</td>\n",
       "      <td>female</td>\n",
       "      <td>26.0</td>\n",
       "      <td>0</td>\n",
       "      <td>0</td>\n",
       "      <td>STON/O2. 3101282</td>\n",
       "      <td>7.9250</td>\n",
       "      <td>S</td>\n",
       "    </tr>\n",
       "    <tr>\n",
       "      <th>3</th>\n",
       "      <td>4</td>\n",
       "      <td>1</td>\n",
       "      <td>1</td>\n",
       "      <td>Futrelle, Mrs. Jacques Heath (Lily May Peel)</td>\n",
       "      <td>female</td>\n",
       "      <td>35.0</td>\n",
       "      <td>1</td>\n",
       "      <td>0</td>\n",
       "      <td>113803</td>\n",
       "      <td>53.1000</td>\n",
       "      <td>S</td>\n",
       "    </tr>\n",
       "    <tr>\n",
       "      <th>4</th>\n",
       "      <td>5</td>\n",
       "      <td>0</td>\n",
       "      <td>3</td>\n",
       "      <td>Allen, Mr. William Henry</td>\n",
       "      <td>male</td>\n",
       "      <td>35.0</td>\n",
       "      <td>0</td>\n",
       "      <td>0</td>\n",
       "      <td>373450</td>\n",
       "      <td>8.0500</td>\n",
       "      <td>S</td>\n",
       "    </tr>\n",
       "  </tbody>\n",
       "</table>\n",
       "</div>"
      ],
      "text/plain": [
       "   PassengerId  Survived  Pclass  \\\n",
       "0            1         0       3   \n",
       "1            2         1       1   \n",
       "2            3         1       3   \n",
       "3            4         1       1   \n",
       "4            5         0       3   \n",
       "\n",
       "                                                Name     Sex   Age  SibSp  \\\n",
       "0                            Braund, Mr. Owen Harris    male  22.0      1   \n",
       "1  Cumings, Mrs. John Bradley (Florence Briggs Th...  female  38.0      1   \n",
       "2                             Heikkinen, Miss. Laina  female  26.0      0   \n",
       "3       Futrelle, Mrs. Jacques Heath (Lily May Peel)  female  35.0      1   \n",
       "4                           Allen, Mr. William Henry    male  35.0      0   \n",
       "\n",
       "   Parch            Ticket     Fare Embarked  \n",
       "0      0         A/5 21171   7.2500        S  \n",
       "1      0          PC 17599  71.2833        C  \n",
       "2      0  STON/O2. 3101282   7.9250        S  \n",
       "3      0            113803  53.1000        S  \n",
       "4      0            373450   8.0500        S  "
      ]
     },
     "execution_count": 34,
     "metadata": {},
     "output_type": "execute_result"
    }
   ],
   "source": [
    "train.head()"
   ]
  },
  {
   "cell_type": "code",
   "execution_count": 35,
   "metadata": {},
   "outputs": [
    {
     "data": {
      "text/plain": [
       "PassengerId    0\n",
       "Survived       0\n",
       "Pclass         0\n",
       "Name           0\n",
       "Sex            0\n",
       "Age            0\n",
       "SibSp          0\n",
       "Parch          0\n",
       "Ticket         0\n",
       "Fare           0\n",
       "Embarked       2\n",
       "dtype: int64"
      ]
     },
     "execution_count": 35,
     "metadata": {},
     "output_type": "execute_result"
    }
   ],
   "source": [
    "train.isnull().sum()"
   ]
  },
  {
   "cell_type": "code",
   "execution_count": 36,
   "metadata": {},
   "outputs": [],
   "source": [
    "# If you want you can drop the 2 records from the Embarked column, but instead of dropping I will replace it with most frequent occuring category.\n",
    "\n",
    "train['Embarked']= train['Embarked'].fillna(train['Embarked'].value_counts().index[0])"
   ]
  },
  {
   "cell_type": "code",
   "execution_count": 37,
   "metadata": {},
   "outputs": [
    {
     "data": {
      "text/plain": [
       "PassengerId    0\n",
       "Survived       0\n",
       "Pclass         0\n",
       "Name           0\n",
       "Sex            0\n",
       "Age            0\n",
       "SibSp          0\n",
       "Parch          0\n",
       "Ticket         0\n",
       "Fare           0\n",
       "Embarked       0\n",
       "dtype: int64"
      ]
     },
     "execution_count": 37,
     "metadata": {},
     "output_type": "execute_result"
    }
   ],
   "source": [
    "train.isnull().sum()"
   ]
  },
  {
   "cell_type": "markdown",
   "metadata": {},
   "source": [
    "### So, we are done with our train data, now we will split our data and build our ML model to train the dataset"
   ]
  },
  {
   "cell_type": "code",
   "execution_count": 38,
   "metadata": {},
   "outputs": [],
   "source": [
    "features= [ 'Pclass','Sex','Age','SibSp','Parch','Fare','Embarked'] # I have picked the independent features inside a list\n",
    "\n",
    "##Let's devide the dataset\n",
    "\n",
    "X = train[features]\n",
    "y = train['Survived']"
   ]
  },
  {
   "cell_type": "code",
   "execution_count": 39,
   "metadata": {},
   "outputs": [
    {
     "data": {
      "text/plain": [
       "Pclass      0\n",
       "Sex         0\n",
       "Age         0\n",
       "SibSp       0\n",
       "Parch       0\n",
       "Fare        0\n",
       "Embarked    0\n",
       "dtype: int64"
      ]
     },
     "execution_count": 39,
     "metadata": {},
     "output_type": "execute_result"
    }
   ],
   "source": [
    "X.isnull().sum() ### Double check to make sure there is no null values in your training dataset"
   ]
  },
  {
   "cell_type": "markdown",
   "metadata": {},
   "source": [
    "### We have cleaned our dataset, now we will use Data Preprocessing techniques or Feature Engineering to deal with Categorical Variables."
   ]
  },
  {
   "cell_type": "code",
   "execution_count": 40,
   "metadata": {},
   "outputs": [],
   "source": [
    "# Now let's enocde categorical values (Feature Engineering Techniques) \n",
    "\n",
    "from sklearn.preprocessing import LabelEncoder\n",
    "LE = LabelEncoder()\n",
    "X['Sex'] = LE.fit_transform(X['Sex'])\n",
    "X['Embarked'] = LE.fit_transform(X['Embarked'])\n"
   ]
  },
  {
   "cell_type": "markdown",
   "metadata": {},
   "source": [
    "## Now, we will split the dataset into training and validation format (For better understanding of what I'm saying go through the \"Intro to Machine Learning\" course from kaggle, its free and very good to get the foundation right :)"
   ]
  },
  {
   "cell_type": "code",
   "execution_count": 41,
   "metadata": {},
   "outputs": [],
   "source": [
    "from sklearn.model_selection import train_test_split\n",
    "X_train,X_test,y_train,y_test = train_test_split(X,y,test_size = 0.3,random_state =0)"
   ]
  },
  {
   "cell_type": "markdown",
   "metadata": {},
   "source": [
    "### Fitting a ML model, to be more specific I will be using XGBoost"
   ]
  },
  {
   "cell_type": "code",
   "execution_count": 42,
   "metadata": {},
   "outputs": [
    {
     "data": {
      "application/javascript": [
       "\n",
       "        if (window._pyforest_update_imports_cell) { window._pyforest_update_imports_cell('import xgboost as xgb'); }\n",
       "    "
      ],
      "text/plain": [
       "<IPython.core.display.Javascript object>"
      ]
     },
     "metadata": {},
     "output_type": "display_data"
    },
    {
     "name": "stdout",
     "output_type": "stream",
     "text": [
      "[0]\tvalidation_0-error:0.19583\tvalidation_0-logloss:0.68841\tvalidation_1-error:0.20149\tvalidation_1-logloss:0.68833\n",
      "[1]\tvalidation_0-error:0.17336\tvalidation_0-logloss:0.68402\tvalidation_1-error:0.17164\tvalidation_1-logloss:0.68386\n",
      "[2]\tvalidation_0-error:0.16533\tvalidation_0-logloss:0.67981\tvalidation_1-error:0.18284\tvalidation_1-logloss:0.67980\n",
      "[3]\tvalidation_0-error:0.16051\tvalidation_0-logloss:0.67621\tvalidation_1-error:0.18284\tvalidation_1-logloss:0.67675\n",
      "[4]\tvalidation_0-error:0.16212\tvalidation_0-logloss:0.67188\tvalidation_1-error:0.18284\tvalidation_1-logloss:0.67266\n",
      "[5]\tvalidation_0-error:0.15891\tvalidation_0-logloss:0.66759\tvalidation_1-error:0.19403\tvalidation_1-logloss:0.66848\n",
      "[6]\tvalidation_0-error:0.15409\tvalidation_0-logloss:0.66330\tvalidation_1-error:0.17910\tvalidation_1-logloss:0.66431\n",
      "[7]\tvalidation_0-error:0.14928\tvalidation_0-logloss:0.65934\tvalidation_1-error:0.18284\tvalidation_1-logloss:0.66043\n",
      "[8]\tvalidation_0-error:0.14928\tvalidation_0-logloss:0.65555\tvalidation_1-error:0.18657\tvalidation_1-logloss:0.65663\n",
      "[9]\tvalidation_0-error:0.15409\tvalidation_0-logloss:0.65183\tvalidation_1-error:0.18284\tvalidation_1-logloss:0.65318\n",
      "[10]\tvalidation_0-error:0.15570\tvalidation_0-logloss:0.64830\tvalidation_1-error:0.18657\tvalidation_1-logloss:0.64994\n",
      "[11]\tvalidation_0-error:0.15730\tvalidation_0-logloss:0.64431\tvalidation_1-error:0.17910\tvalidation_1-logloss:0.64560\n",
      "[12]\tvalidation_0-error:0.15570\tvalidation_0-logloss:0.64030\tvalidation_1-error:0.17910\tvalidation_1-logloss:0.64182\n",
      "[13]\tvalidation_0-error:0.15409\tvalidation_0-logloss:0.63694\tvalidation_1-error:0.18657\tvalidation_1-logloss:0.63864\n",
      "[14]\tvalidation_0-error:0.15409\tvalidation_0-logloss:0.63391\tvalidation_1-error:0.17910\tvalidation_1-logloss:0.63546\n",
      "[15]\tvalidation_0-error:0.16372\tvalidation_0-logloss:0.63071\tvalidation_1-error:0.19030\tvalidation_1-logloss:0.63264\n",
      "[16]\tvalidation_0-error:0.16372\tvalidation_0-logloss:0.62775\tvalidation_1-error:0.19403\tvalidation_1-logloss:0.62993\n",
      "[17]\tvalidation_0-error:0.16693\tvalidation_0-logloss:0.62484\tvalidation_1-error:0.19030\tvalidation_1-logloss:0.62694\n",
      "[18]\tvalidation_0-error:0.15891\tvalidation_0-logloss:0.62114\tvalidation_1-error:0.19030\tvalidation_1-logloss:0.62342\n",
      "[19]\tvalidation_0-error:0.16212\tvalidation_0-logloss:0.61773\tvalidation_1-error:0.19403\tvalidation_1-logloss:0.61989\n",
      "[20]\tvalidation_0-error:0.15730\tvalidation_0-logloss:0.61428\tvalidation_1-error:0.19403\tvalidation_1-logloss:0.61646\n",
      "[21]\tvalidation_0-error:0.16372\tvalidation_0-logloss:0.61119\tvalidation_1-error:0.19403\tvalidation_1-logloss:0.61331\n",
      "[22]\tvalidation_0-error:0.16533\tvalidation_0-logloss:0.60856\tvalidation_1-error:0.19776\tvalidation_1-logloss:0.61078\n",
      "[23]\tvalidation_0-error:0.16212\tvalidation_0-logloss:0.60527\tvalidation_1-error:0.19403\tvalidation_1-logloss:0.60763\n",
      "[24]\tvalidation_0-error:0.16212\tvalidation_0-logloss:0.60221\tvalidation_1-error:0.19030\tvalidation_1-logloss:0.60485\n",
      "[25]\tvalidation_0-error:0.16372\tvalidation_0-logloss:0.59882\tvalidation_1-error:0.19403\tvalidation_1-logloss:0.60174\n",
      "[26]\tvalidation_0-error:0.16051\tvalidation_0-logloss:0.59582\tvalidation_1-error:0.19030\tvalidation_1-logloss:0.59883\n",
      "[27]\tvalidation_0-error:0.16212\tvalidation_0-logloss:0.59282\tvalidation_1-error:0.19030\tvalidation_1-logloss:0.59582\n",
      "[28]\tvalidation_0-error:0.16372\tvalidation_0-logloss:0.58995\tvalidation_1-error:0.19403\tvalidation_1-logloss:0.59320\n",
      "[29]\tvalidation_0-error:0.16372\tvalidation_0-logloss:0.58746\tvalidation_1-error:0.19403\tvalidation_1-logloss:0.59059\n",
      "[30]\tvalidation_0-error:0.16372\tvalidation_0-logloss:0.58485\tvalidation_1-error:0.19030\tvalidation_1-logloss:0.58829\n",
      "[31]\tvalidation_0-error:0.15891\tvalidation_0-logloss:0.58212\tvalidation_1-error:0.19030\tvalidation_1-logloss:0.58564\n",
      "[32]\tvalidation_0-error:0.16212\tvalidation_0-logloss:0.57966\tvalidation_1-error:0.19030\tvalidation_1-logloss:0.58346\n",
      "[33]\tvalidation_0-error:0.16051\tvalidation_0-logloss:0.57666\tvalidation_1-error:0.19030\tvalidation_1-logloss:0.58071\n",
      "[34]\tvalidation_0-error:0.16051\tvalidation_0-logloss:0.57415\tvalidation_1-error:0.19403\tvalidation_1-logloss:0.57831\n",
      "[35]\tvalidation_0-error:0.16051\tvalidation_0-logloss:0.57119\tvalidation_1-error:0.19403\tvalidation_1-logloss:0.57544\n",
      "[36]\tvalidation_0-error:0.15891\tvalidation_0-logloss:0.56854\tvalidation_1-error:0.19403\tvalidation_1-logloss:0.57289\n",
      "[37]\tvalidation_0-error:0.16212\tvalidation_0-logloss:0.56604\tvalidation_1-error:0.19403\tvalidation_1-logloss:0.57076\n",
      "[38]\tvalidation_0-error:0.15730\tvalidation_0-logloss:0.56351\tvalidation_1-error:0.19030\tvalidation_1-logloss:0.56829\n",
      "[39]\tvalidation_0-error:0.15891\tvalidation_0-logloss:0.56116\tvalidation_1-error:0.19030\tvalidation_1-logloss:0.56579\n",
      "[40]\tvalidation_0-error:0.15730\tvalidation_0-logloss:0.55860\tvalidation_1-error:0.19030\tvalidation_1-logloss:0.56364\n",
      "[41]\tvalidation_0-error:0.16051\tvalidation_0-logloss:0.55653\tvalidation_1-error:0.18657\tvalidation_1-logloss:0.56199\n",
      "[42]\tvalidation_0-error:0.16212\tvalidation_0-logloss:0.55412\tvalidation_1-error:0.19030\tvalidation_1-logloss:0.55971\n",
      "[43]\tvalidation_0-error:0.16051\tvalidation_0-logloss:0.55191\tvalidation_1-error:0.18657\tvalidation_1-logloss:0.55764\n",
      "[44]\tvalidation_0-error:0.15891\tvalidation_0-logloss:0.54987\tvalidation_1-error:0.18657\tvalidation_1-logloss:0.55566\n",
      "[45]\tvalidation_0-error:0.15891\tvalidation_0-logloss:0.54754\tvalidation_1-error:0.18657\tvalidation_1-logloss:0.55365\n",
      "[46]\tvalidation_0-error:0.15891\tvalidation_0-logloss:0.54513\tvalidation_1-error:0.18657\tvalidation_1-logloss:0.55131\n",
      "[47]\tvalidation_0-error:0.15891\tvalidation_0-logloss:0.54301\tvalidation_1-error:0.18657\tvalidation_1-logloss:0.54898\n",
      "[48]\tvalidation_0-error:0.15891\tvalidation_0-logloss:0.54089\tvalidation_1-error:0.18657\tvalidation_1-logloss:0.54673\n",
      "[49]\tvalidation_0-error:0.15891\tvalidation_0-logloss:0.53847\tvalidation_1-error:0.18657\tvalidation_1-logloss:0.54459\n",
      "[50]\tvalidation_0-error:0.15891\tvalidation_0-logloss:0.53617\tvalidation_1-error:0.18657\tvalidation_1-logloss:0.54269\n",
      "[51]\tvalidation_0-error:0.15891\tvalidation_0-logloss:0.53430\tvalidation_1-error:0.18657\tvalidation_1-logloss:0.54092\n",
      "[52]\tvalidation_0-error:0.15570\tvalidation_0-logloss:0.53229\tvalidation_1-error:0.18657\tvalidation_1-logloss:0.53950\n",
      "[53]\tvalidation_0-error:0.15730\tvalidation_0-logloss:0.53015\tvalidation_1-error:0.19030\tvalidation_1-logloss:0.53736\n",
      "[54]\tvalidation_0-error:0.15891\tvalidation_0-logloss:0.52828\tvalidation_1-error:0.18657\tvalidation_1-logloss:0.53556\n",
      "[55]\tvalidation_0-error:0.15730\tvalidation_0-logloss:0.52629\tvalidation_1-error:0.19030\tvalidation_1-logloss:0.53380\n",
      "[56]\tvalidation_0-error:0.15570\tvalidation_0-logloss:0.52456\tvalidation_1-error:0.18657\tvalidation_1-logloss:0.53201\n",
      "[57]\tvalidation_0-error:0.15570\tvalidation_0-logloss:0.52272\tvalidation_1-error:0.18284\tvalidation_1-logloss:0.53056\n",
      "[58]\tvalidation_0-error:0.15409\tvalidation_0-logloss:0.52073\tvalidation_1-error:0.18657\tvalidation_1-logloss:0.52889\n",
      "[59]\tvalidation_0-error:0.15409\tvalidation_0-logloss:0.51903\tvalidation_1-error:0.18284\tvalidation_1-logloss:0.52742\n",
      "[60]\tvalidation_0-error:0.15249\tvalidation_0-logloss:0.51727\tvalidation_1-error:0.18284\tvalidation_1-logloss:0.52597\n",
      "[61]\tvalidation_0-error:0.15570\tvalidation_0-logloss:0.51564\tvalidation_1-error:0.18657\tvalidation_1-logloss:0.52444\n",
      "[62]\tvalidation_0-error:0.15409\tvalidation_0-logloss:0.51396\tvalidation_1-error:0.18657\tvalidation_1-logloss:0.52279\n",
      "[63]\tvalidation_0-error:0.15891\tvalidation_0-logloss:0.51227\tvalidation_1-error:0.18657\tvalidation_1-logloss:0.52079\n",
      "[64]\tvalidation_0-error:0.15249\tvalidation_0-logloss:0.51066\tvalidation_1-error:0.19030\tvalidation_1-logloss:0.51938\n",
      "[65]\tvalidation_0-error:0.15409\tvalidation_0-logloss:0.50926\tvalidation_1-error:0.19030\tvalidation_1-logloss:0.51793\n",
      "[66]\tvalidation_0-error:0.15088\tvalidation_0-logloss:0.50761\tvalidation_1-error:0.18657\tvalidation_1-logloss:0.51676\n",
      "[67]\tvalidation_0-error:0.15249\tvalidation_0-logloss:0.50601\tvalidation_1-error:0.19030\tvalidation_1-logloss:0.51527\n",
      "[68]\tvalidation_0-error:0.15570\tvalidation_0-logloss:0.50417\tvalidation_1-error:0.19030\tvalidation_1-logloss:0.51394\n",
      "[69]\tvalidation_0-error:0.15570\tvalidation_0-logloss:0.50226\tvalidation_1-error:0.19403\tvalidation_1-logloss:0.51198\n",
      "[70]\tvalidation_0-error:0.15249\tvalidation_0-logloss:0.50083\tvalidation_1-error:0.18284\tvalidation_1-logloss:0.51082\n"
     ]
    },
    {
     "name": "stdout",
     "output_type": "stream",
     "text": [
      "[71]\tvalidation_0-error:0.15249\tvalidation_0-logloss:0.49906\tvalidation_1-error:0.17910\tvalidation_1-logloss:0.50933\n",
      "[72]\tvalidation_0-error:0.15409\tvalidation_0-logloss:0.49741\tvalidation_1-error:0.18657\tvalidation_1-logloss:0.50748\n",
      "[73]\tvalidation_0-error:0.14767\tvalidation_0-logloss:0.49563\tvalidation_1-error:0.18657\tvalidation_1-logloss:0.50599\n",
      "[74]\tvalidation_0-error:0.14607\tvalidation_0-logloss:0.49406\tvalidation_1-error:0.19030\tvalidation_1-logloss:0.50475\n",
      "[75]\tvalidation_0-error:0.14767\tvalidation_0-logloss:0.49282\tvalidation_1-error:0.18284\tvalidation_1-logloss:0.50374\n",
      "[76]\tvalidation_0-error:0.14928\tvalidation_0-logloss:0.49138\tvalidation_1-error:0.18284\tvalidation_1-logloss:0.50246\n",
      "[77]\tvalidation_0-error:0.14767\tvalidation_0-logloss:0.48998\tvalidation_1-error:0.18284\tvalidation_1-logloss:0.50131\n",
      "[78]\tvalidation_0-error:0.14928\tvalidation_0-logloss:0.48862\tvalidation_1-error:0.18657\tvalidation_1-logloss:0.50023\n",
      "[79]\tvalidation_0-error:0.14928\tvalidation_0-logloss:0.48712\tvalidation_1-error:0.18284\tvalidation_1-logloss:0.49890\n",
      "[80]\tvalidation_0-error:0.14928\tvalidation_0-logloss:0.48578\tvalidation_1-error:0.18284\tvalidation_1-logloss:0.49815\n",
      "[81]\tvalidation_0-error:0.14928\tvalidation_0-logloss:0.48429\tvalidation_1-error:0.18284\tvalidation_1-logloss:0.49673\n",
      "[82]\tvalidation_0-error:0.14928\tvalidation_0-logloss:0.48302\tvalidation_1-error:0.18284\tvalidation_1-logloss:0.49583\n",
      "[83]\tvalidation_0-error:0.15088\tvalidation_0-logloss:0.48185\tvalidation_1-error:0.17910\tvalidation_1-logloss:0.49489\n",
      "[84]\tvalidation_0-error:0.15088\tvalidation_0-logloss:0.48064\tvalidation_1-error:0.18284\tvalidation_1-logloss:0.49385\n",
      "[85]\tvalidation_0-error:0.15088\tvalidation_0-logloss:0.47927\tvalidation_1-error:0.17910\tvalidation_1-logloss:0.49282\n",
      "[86]\tvalidation_0-error:0.15088\tvalidation_0-logloss:0.47813\tvalidation_1-error:0.18284\tvalidation_1-logloss:0.49211\n",
      "[87]\tvalidation_0-error:0.15088\tvalidation_0-logloss:0.47655\tvalidation_1-error:0.17910\tvalidation_1-logloss:0.49071\n",
      "[88]\tvalidation_0-error:0.15088\tvalidation_0-logloss:0.47516\tvalidation_1-error:0.17910\tvalidation_1-logloss:0.48945\n",
      "[89]\tvalidation_0-error:0.14928\tvalidation_0-logloss:0.47398\tvalidation_1-error:0.17910\tvalidation_1-logloss:0.48852\n",
      "[90]\tvalidation_0-error:0.15088\tvalidation_0-logloss:0.47273\tvalidation_1-error:0.17910\tvalidation_1-logloss:0.48727\n",
      "[91]\tvalidation_0-error:0.15249\tvalidation_0-logloss:0.47190\tvalidation_1-error:0.17910\tvalidation_1-logloss:0.48654\n",
      "[92]\tvalidation_0-error:0.15088\tvalidation_0-logloss:0.47064\tvalidation_1-error:0.17910\tvalidation_1-logloss:0.48537\n",
      "[93]\tvalidation_0-error:0.15249\tvalidation_0-logloss:0.46942\tvalidation_1-error:0.17910\tvalidation_1-logloss:0.48436\n",
      "[94]\tvalidation_0-error:0.15249\tvalidation_0-logloss:0.46828\tvalidation_1-error:0.17910\tvalidation_1-logloss:0.48312\n",
      "[95]\tvalidation_0-error:0.15088\tvalidation_0-logloss:0.46713\tvalidation_1-error:0.17910\tvalidation_1-logloss:0.48215\n",
      "[96]\tvalidation_0-error:0.14767\tvalidation_0-logloss:0.46586\tvalidation_1-error:0.17910\tvalidation_1-logloss:0.48097\n",
      "[97]\tvalidation_0-error:0.15088\tvalidation_0-logloss:0.46456\tvalidation_1-error:0.17910\tvalidation_1-logloss:0.47991\n",
      "[98]\tvalidation_0-error:0.15088\tvalidation_0-logloss:0.46315\tvalidation_1-error:0.17910\tvalidation_1-logloss:0.47867\n",
      "[99]\tvalidation_0-error:0.15249\tvalidation_0-logloss:0.46206\tvalidation_1-error:0.18284\tvalidation_1-logloss:0.47742\n",
      "[100]\tvalidation_0-error:0.15249\tvalidation_0-logloss:0.46100\tvalidation_1-error:0.18284\tvalidation_1-logloss:0.47644\n",
      "[101]\tvalidation_0-error:0.14928\tvalidation_0-logloss:0.45997\tvalidation_1-error:0.18284\tvalidation_1-logloss:0.47542\n",
      "[102]\tvalidation_0-error:0.14928\tvalidation_0-logloss:0.45868\tvalidation_1-error:0.18284\tvalidation_1-logloss:0.47445\n",
      "[103]\tvalidation_0-error:0.15249\tvalidation_0-logloss:0.45767\tvalidation_1-error:0.18284\tvalidation_1-logloss:0.47336\n",
      "[104]\tvalidation_0-error:0.15249\tvalidation_0-logloss:0.45656\tvalidation_1-error:0.18284\tvalidation_1-logloss:0.47239\n",
      "[105]\tvalidation_0-error:0.15409\tvalidation_0-logloss:0.45560\tvalidation_1-error:0.18284\tvalidation_1-logloss:0.47116\n",
      "[106]\tvalidation_0-error:0.15409\tvalidation_0-logloss:0.45459\tvalidation_1-error:0.18284\tvalidation_1-logloss:0.47005\n",
      "[107]\tvalidation_0-error:0.15409\tvalidation_0-logloss:0.45349\tvalidation_1-error:0.18284\tvalidation_1-logloss:0.46895\n",
      "[108]\tvalidation_0-error:0.15088\tvalidation_0-logloss:0.45232\tvalidation_1-error:0.18284\tvalidation_1-logloss:0.46812\n",
      "[109]\tvalidation_0-error:0.15249\tvalidation_0-logloss:0.45157\tvalidation_1-error:0.18284\tvalidation_1-logloss:0.46753\n",
      "[110]\tvalidation_0-error:0.15249\tvalidation_0-logloss:0.45050\tvalidation_1-error:0.18284\tvalidation_1-logloss:0.46676\n",
      "[111]\tvalidation_0-error:0.15249\tvalidation_0-logloss:0.44937\tvalidation_1-error:0.18284\tvalidation_1-logloss:0.46614\n",
      "[112]\tvalidation_0-error:0.15088\tvalidation_0-logloss:0.44848\tvalidation_1-error:0.18284\tvalidation_1-logloss:0.46515\n",
      "[113]\tvalidation_0-error:0.15088\tvalidation_0-logloss:0.44746\tvalidation_1-error:0.18284\tvalidation_1-logloss:0.46441\n",
      "[114]\tvalidation_0-error:0.15409\tvalidation_0-logloss:0.44655\tvalidation_1-error:0.18284\tvalidation_1-logloss:0.46389\n",
      "[115]\tvalidation_0-error:0.15409\tvalidation_0-logloss:0.44540\tvalidation_1-error:0.18284\tvalidation_1-logloss:0.46301\n",
      "[116]\tvalidation_0-error:0.15249\tvalidation_0-logloss:0.44454\tvalidation_1-error:0.18284\tvalidation_1-logloss:0.46225\n",
      "[117]\tvalidation_0-error:0.15088\tvalidation_0-logloss:0.44374\tvalidation_1-error:0.18284\tvalidation_1-logloss:0.46129\n",
      "[118]\tvalidation_0-error:0.15249\tvalidation_0-logloss:0.44270\tvalidation_1-error:0.18284\tvalidation_1-logloss:0.46056\n",
      "[119]\tvalidation_0-error:0.15249\tvalidation_0-logloss:0.44151\tvalidation_1-error:0.18284\tvalidation_1-logloss:0.45957\n",
      "[120]\tvalidation_0-error:0.15088\tvalidation_0-logloss:0.44056\tvalidation_1-error:0.18284\tvalidation_1-logloss:0.45879\n",
      "[121]\tvalidation_0-error:0.15088\tvalidation_0-logloss:0.43953\tvalidation_1-error:0.18284\tvalidation_1-logloss:0.45758\n",
      "[122]\tvalidation_0-error:0.14928\tvalidation_0-logloss:0.43837\tvalidation_1-error:0.18284\tvalidation_1-logloss:0.45677\n",
      "[123]\tvalidation_0-error:0.15088\tvalidation_0-logloss:0.43771\tvalidation_1-error:0.18284\tvalidation_1-logloss:0.45626\n",
      "[124]\tvalidation_0-error:0.14767\tvalidation_0-logloss:0.43693\tvalidation_1-error:0.18284\tvalidation_1-logloss:0.45553\n",
      "[125]\tvalidation_0-error:0.14928\tvalidation_0-logloss:0.43587\tvalidation_1-error:0.18284\tvalidation_1-logloss:0.45487\n",
      "[126]\tvalidation_0-error:0.14928\tvalidation_0-logloss:0.43503\tvalidation_1-error:0.18284\tvalidation_1-logloss:0.45424\n",
      "[127]\tvalidation_0-error:0.14767\tvalidation_0-logloss:0.43412\tvalidation_1-error:0.18284\tvalidation_1-logloss:0.45338\n",
      "[128]\tvalidation_0-error:0.14767\tvalidation_0-logloss:0.43316\tvalidation_1-error:0.18284\tvalidation_1-logloss:0.45258\n",
      "[129]\tvalidation_0-error:0.14928\tvalidation_0-logloss:0.43245\tvalidation_1-error:0.18284\tvalidation_1-logloss:0.45239\n",
      "[130]\tvalidation_0-error:0.14767\tvalidation_0-logloss:0.43160\tvalidation_1-error:0.17910\tvalidation_1-logloss:0.45148\n",
      "[131]\tvalidation_0-error:0.14767\tvalidation_0-logloss:0.43060\tvalidation_1-error:0.18284\tvalidation_1-logloss:0.45033\n",
      "[132]\tvalidation_0-error:0.14767\tvalidation_0-logloss:0.42990\tvalidation_1-error:0.18284\tvalidation_1-logloss:0.44990\n",
      "[133]\tvalidation_0-error:0.14928\tvalidation_0-logloss:0.42894\tvalidation_1-error:0.18284\tvalidation_1-logloss:0.44913\n",
      "[134]\tvalidation_0-error:0.14767\tvalidation_0-logloss:0.42808\tvalidation_1-error:0.18284\tvalidation_1-logloss:0.44826\n",
      "[135]\tvalidation_0-error:0.14767\tvalidation_0-logloss:0.42721\tvalidation_1-error:0.18284\tvalidation_1-logloss:0.44775\n",
      "[136]\tvalidation_0-error:0.14446\tvalidation_0-logloss:0.42629\tvalidation_1-error:0.18284\tvalidation_1-logloss:0.44706\n",
      "[137]\tvalidation_0-error:0.14607\tvalidation_0-logloss:0.42545\tvalidation_1-error:0.17910\tvalidation_1-logloss:0.44652\n",
      "[138]\tvalidation_0-error:0.14767\tvalidation_0-logloss:0.42439\tvalidation_1-error:0.17910\tvalidation_1-logloss:0.44572\n",
      "[139]\tvalidation_0-error:0.14607\tvalidation_0-logloss:0.42349\tvalidation_1-error:0.17910\tvalidation_1-logloss:0.44512\n",
      "[140]\tvalidation_0-error:0.14286\tvalidation_0-logloss:0.42260\tvalidation_1-error:0.17910\tvalidation_1-logloss:0.44433\n"
     ]
    },
    {
     "name": "stdout",
     "output_type": "stream",
     "text": [
      "[141]\tvalidation_0-error:0.14607\tvalidation_0-logloss:0.42178\tvalidation_1-error:0.17910\tvalidation_1-logloss:0.44401\n",
      "[142]\tvalidation_0-error:0.14286\tvalidation_0-logloss:0.42096\tvalidation_1-error:0.17910\tvalidation_1-logloss:0.44365\n",
      "[143]\tvalidation_0-error:0.14607\tvalidation_0-logloss:0.42020\tvalidation_1-error:0.17910\tvalidation_1-logloss:0.44299\n",
      "[144]\tvalidation_0-error:0.14607\tvalidation_0-logloss:0.41930\tvalidation_1-error:0.17910\tvalidation_1-logloss:0.44234\n",
      "[145]\tvalidation_0-error:0.14446\tvalidation_0-logloss:0.41845\tvalidation_1-error:0.17910\tvalidation_1-logloss:0.44170\n",
      "[146]\tvalidation_0-error:0.14446\tvalidation_0-logloss:0.41781\tvalidation_1-error:0.18284\tvalidation_1-logloss:0.44139\n",
      "[147]\tvalidation_0-error:0.14446\tvalidation_0-logloss:0.41690\tvalidation_1-error:0.17910\tvalidation_1-logloss:0.44086\n",
      "[148]\tvalidation_0-error:0.14125\tvalidation_0-logloss:0.41617\tvalidation_1-error:0.18284\tvalidation_1-logloss:0.44076\n",
      "[149]\tvalidation_0-error:0.14125\tvalidation_0-logloss:0.41527\tvalidation_1-error:0.18284\tvalidation_1-logloss:0.44021\n",
      "[150]\tvalidation_0-error:0.14125\tvalidation_0-logloss:0.41479\tvalidation_1-error:0.17910\tvalidation_1-logloss:0.44001\n",
      "[151]\tvalidation_0-error:0.14125\tvalidation_0-logloss:0.41401\tvalidation_1-error:0.18284\tvalidation_1-logloss:0.43940\n",
      "[152]\tvalidation_0-error:0.14125\tvalidation_0-logloss:0.41343\tvalidation_1-error:0.17910\tvalidation_1-logloss:0.43901\n",
      "[153]\tvalidation_0-error:0.14286\tvalidation_0-logloss:0.41260\tvalidation_1-error:0.17910\tvalidation_1-logloss:0.43853\n",
      "[154]\tvalidation_0-error:0.14286\tvalidation_0-logloss:0.41190\tvalidation_1-error:0.17910\tvalidation_1-logloss:0.43789\n",
      "[155]\tvalidation_0-error:0.14286\tvalidation_0-logloss:0.41115\tvalidation_1-error:0.17910\tvalidation_1-logloss:0.43730\n",
      "[156]\tvalidation_0-error:0.14125\tvalidation_0-logloss:0.41045\tvalidation_1-error:0.17910\tvalidation_1-logloss:0.43678\n",
      "[157]\tvalidation_0-error:0.14125\tvalidation_0-logloss:0.40974\tvalidation_1-error:0.17910\tvalidation_1-logloss:0.43627\n",
      "[158]\tvalidation_0-error:0.14125\tvalidation_0-logloss:0.40900\tvalidation_1-error:0.17910\tvalidation_1-logloss:0.43566\n",
      "[159]\tvalidation_0-error:0.13965\tvalidation_0-logloss:0.40842\tvalidation_1-error:0.17910\tvalidation_1-logloss:0.43502\n",
      "[160]\tvalidation_0-error:0.14125\tvalidation_0-logloss:0.40772\tvalidation_1-error:0.17910\tvalidation_1-logloss:0.43428\n",
      "[161]\tvalidation_0-error:0.14125\tvalidation_0-logloss:0.40708\tvalidation_1-error:0.17910\tvalidation_1-logloss:0.43374\n",
      "[162]\tvalidation_0-error:0.14125\tvalidation_0-logloss:0.40653\tvalidation_1-error:0.17910\tvalidation_1-logloss:0.43319\n",
      "[163]\tvalidation_0-error:0.13965\tvalidation_0-logloss:0.40579\tvalidation_1-error:0.17910\tvalidation_1-logloss:0.43266\n",
      "[164]\tvalidation_0-error:0.13965\tvalidation_0-logloss:0.40508\tvalidation_1-error:0.17910\tvalidation_1-logloss:0.43218\n",
      "[165]\tvalidation_0-error:0.13965\tvalidation_0-logloss:0.40444\tvalidation_1-error:0.17910\tvalidation_1-logloss:0.43206\n",
      "[166]\tvalidation_0-error:0.13965\tvalidation_0-logloss:0.40387\tvalidation_1-error:0.17910\tvalidation_1-logloss:0.43147\n",
      "[167]\tvalidation_0-error:0.13965\tvalidation_0-logloss:0.40322\tvalidation_1-error:0.17910\tvalidation_1-logloss:0.43099\n",
      "[168]\tvalidation_0-error:0.13965\tvalidation_0-logloss:0.40249\tvalidation_1-error:0.17910\tvalidation_1-logloss:0.43041\n",
      "[169]\tvalidation_0-error:0.13965\tvalidation_0-logloss:0.40178\tvalidation_1-error:0.17910\tvalidation_1-logloss:0.42981\n",
      "[170]\tvalidation_0-error:0.13965\tvalidation_0-logloss:0.40113\tvalidation_1-error:0.17910\tvalidation_1-logloss:0.42986\n",
      "[171]\tvalidation_0-error:0.13965\tvalidation_0-logloss:0.40037\tvalidation_1-error:0.17910\tvalidation_1-logloss:0.42937\n",
      "[172]\tvalidation_0-error:0.13965\tvalidation_0-logloss:0.39972\tvalidation_1-error:0.17910\tvalidation_1-logloss:0.42906\n",
      "[173]\tvalidation_0-error:0.13965\tvalidation_0-logloss:0.39921\tvalidation_1-error:0.18284\tvalidation_1-logloss:0.42886\n",
      "[174]\tvalidation_0-error:0.13965\tvalidation_0-logloss:0.39855\tvalidation_1-error:0.18284\tvalidation_1-logloss:0.42833\n",
      "[175]\tvalidation_0-error:0.13965\tvalidation_0-logloss:0.39804\tvalidation_1-error:0.17910\tvalidation_1-logloss:0.42804\n",
      "[176]\tvalidation_0-error:0.13965\tvalidation_0-logloss:0.39747\tvalidation_1-error:0.17910\tvalidation_1-logloss:0.42796\n",
      "[177]\tvalidation_0-error:0.13965\tvalidation_0-logloss:0.39670\tvalidation_1-error:0.17910\tvalidation_1-logloss:0.42742\n",
      "[178]\tvalidation_0-error:0.13965\tvalidation_0-logloss:0.39619\tvalidation_1-error:0.17910\tvalidation_1-logloss:0.42701\n",
      "[179]\tvalidation_0-error:0.13965\tvalidation_0-logloss:0.39559\tvalidation_1-error:0.18284\tvalidation_1-logloss:0.42678\n",
      "[180]\tvalidation_0-error:0.13965\tvalidation_0-logloss:0.39499\tvalidation_1-error:0.18284\tvalidation_1-logloss:0.42628\n",
      "[181]\tvalidation_0-error:0.13965\tvalidation_0-logloss:0.39441\tvalidation_1-error:0.18284\tvalidation_1-logloss:0.42573\n",
      "[182]\tvalidation_0-error:0.13804\tvalidation_0-logloss:0.39401\tvalidation_1-error:0.18284\tvalidation_1-logloss:0.42510\n",
      "[183]\tvalidation_0-error:0.13804\tvalidation_0-logloss:0.39350\tvalidation_1-error:0.18284\tvalidation_1-logloss:0.42480\n",
      "[184]\tvalidation_0-error:0.13965\tvalidation_0-logloss:0.39314\tvalidation_1-error:0.18284\tvalidation_1-logloss:0.42456\n",
      "[185]\tvalidation_0-error:0.13804\tvalidation_0-logloss:0.39264\tvalidation_1-error:0.18284\tvalidation_1-logloss:0.42409\n",
      "[186]\tvalidation_0-error:0.13965\tvalidation_0-logloss:0.39190\tvalidation_1-error:0.18284\tvalidation_1-logloss:0.42385\n",
      "[187]\tvalidation_0-error:0.13965\tvalidation_0-logloss:0.39130\tvalidation_1-error:0.18284\tvalidation_1-logloss:0.42340\n",
      "[188]\tvalidation_0-error:0.13644\tvalidation_0-logloss:0.39077\tvalidation_1-error:0.18284\tvalidation_1-logloss:0.42319\n",
      "[189]\tvalidation_0-error:0.13804\tvalidation_0-logloss:0.39029\tvalidation_1-error:0.18284\tvalidation_1-logloss:0.42309\n",
      "[190]\tvalidation_0-error:0.13804\tvalidation_0-logloss:0.38959\tvalidation_1-error:0.18284\tvalidation_1-logloss:0.42275\n",
      "[191]\tvalidation_0-error:0.13804\tvalidation_0-logloss:0.38909\tvalidation_1-error:0.18657\tvalidation_1-logloss:0.42256\n",
      "[192]\tvalidation_0-error:0.13804\tvalidation_0-logloss:0.38853\tvalidation_1-error:0.17910\tvalidation_1-logloss:0.42220\n",
      "[193]\tvalidation_0-error:0.13804\tvalidation_0-logloss:0.38799\tvalidation_1-error:0.17910\tvalidation_1-logloss:0.42192\n",
      "[194]\tvalidation_0-error:0.13804\tvalidation_0-logloss:0.38749\tvalidation_1-error:0.17537\tvalidation_1-logloss:0.42160\n",
      "[195]\tvalidation_0-error:0.13804\tvalidation_0-logloss:0.38682\tvalidation_1-error:0.17164\tvalidation_1-logloss:0.42102\n",
      "[196]\tvalidation_0-error:0.13804\tvalidation_0-logloss:0.38643\tvalidation_1-error:0.17164\tvalidation_1-logloss:0.42076\n",
      "[197]\tvalidation_0-error:0.13804\tvalidation_0-logloss:0.38600\tvalidation_1-error:0.17537\tvalidation_1-logloss:0.42055\n",
      "[198]\tvalidation_0-error:0.13804\tvalidation_0-logloss:0.38556\tvalidation_1-error:0.17537\tvalidation_1-logloss:0.42029\n",
      "[199]\tvalidation_0-error:0.13804\tvalidation_0-logloss:0.38518\tvalidation_1-error:0.17910\tvalidation_1-logloss:0.42019\n",
      "[200]\tvalidation_0-error:0.13804\tvalidation_0-logloss:0.38457\tvalidation_1-error:0.17537\tvalidation_1-logloss:0.41996\n",
      "[201]\tvalidation_0-error:0.13644\tvalidation_0-logloss:0.38383\tvalidation_1-error:0.17537\tvalidation_1-logloss:0.41922\n",
      "[202]\tvalidation_0-error:0.13644\tvalidation_0-logloss:0.38327\tvalidation_1-error:0.17537\tvalidation_1-logloss:0.41865\n",
      "[203]\tvalidation_0-error:0.13644\tvalidation_0-logloss:0.38267\tvalidation_1-error:0.17537\tvalidation_1-logloss:0.41830\n",
      "[204]\tvalidation_0-error:0.13644\tvalidation_0-logloss:0.38203\tvalidation_1-error:0.17537\tvalidation_1-logloss:0.41803\n",
      "[205]\tvalidation_0-error:0.13644\tvalidation_0-logloss:0.38158\tvalidation_1-error:0.17537\tvalidation_1-logloss:0.41759\n",
      "[206]\tvalidation_0-error:0.13483\tvalidation_0-logloss:0.38122\tvalidation_1-error:0.17164\tvalidation_1-logloss:0.41720\n",
      "[207]\tvalidation_0-error:0.13323\tvalidation_0-logloss:0.38065\tvalidation_1-error:0.17537\tvalidation_1-logloss:0.41668\n",
      "[208]\tvalidation_0-error:0.13323\tvalidation_0-logloss:0.38035\tvalidation_1-error:0.17164\tvalidation_1-logloss:0.41663\n",
      "[209]\tvalidation_0-error:0.13323\tvalidation_0-logloss:0.37991\tvalidation_1-error:0.17164\tvalidation_1-logloss:0.41645\n",
      "[210]\tvalidation_0-error:0.13323\tvalidation_0-logloss:0.37963\tvalidation_1-error:0.17164\tvalidation_1-logloss:0.41624\n"
     ]
    },
    {
     "name": "stdout",
     "output_type": "stream",
     "text": [
      "[211]\tvalidation_0-error:0.13323\tvalidation_0-logloss:0.37901\tvalidation_1-error:0.17164\tvalidation_1-logloss:0.41581\n",
      "[212]\tvalidation_0-error:0.13002\tvalidation_0-logloss:0.37840\tvalidation_1-error:0.17164\tvalidation_1-logloss:0.41548\n",
      "[213]\tvalidation_0-error:0.13002\tvalidation_0-logloss:0.37807\tvalidation_1-error:0.17164\tvalidation_1-logloss:0.41528\n",
      "[214]\tvalidation_0-error:0.13002\tvalidation_0-logloss:0.37762\tvalidation_1-error:0.17537\tvalidation_1-logloss:0.41528\n",
      "[215]\tvalidation_0-error:0.13162\tvalidation_0-logloss:0.37707\tvalidation_1-error:0.17537\tvalidation_1-logloss:0.41493\n",
      "[216]\tvalidation_0-error:0.13162\tvalidation_0-logloss:0.37662\tvalidation_1-error:0.17537\tvalidation_1-logloss:0.41465\n",
      "[217]\tvalidation_0-error:0.13162\tvalidation_0-logloss:0.37629\tvalidation_1-error:0.17537\tvalidation_1-logloss:0.41431\n",
      "[218]\tvalidation_0-error:0.13162\tvalidation_0-logloss:0.37577\tvalidation_1-error:0.17537\tvalidation_1-logloss:0.41402\n",
      "[219]\tvalidation_0-error:0.13323\tvalidation_0-logloss:0.37530\tvalidation_1-error:0.17537\tvalidation_1-logloss:0.41385\n",
      "[220]\tvalidation_0-error:0.13323\tvalidation_0-logloss:0.37480\tvalidation_1-error:0.17537\tvalidation_1-logloss:0.41363\n",
      "[221]\tvalidation_0-error:0.13323\tvalidation_0-logloss:0.37449\tvalidation_1-error:0.17537\tvalidation_1-logloss:0.41366\n",
      "[222]\tvalidation_0-error:0.13323\tvalidation_0-logloss:0.37406\tvalidation_1-error:0.17537\tvalidation_1-logloss:0.41324\n",
      "[223]\tvalidation_0-error:0.13483\tvalidation_0-logloss:0.37346\tvalidation_1-error:0.17537\tvalidation_1-logloss:0.41296\n",
      "[224]\tvalidation_0-error:0.13323\tvalidation_0-logloss:0.37295\tvalidation_1-error:0.17537\tvalidation_1-logloss:0.41289\n",
      "[225]\tvalidation_0-error:0.13323\tvalidation_0-logloss:0.37254\tvalidation_1-error:0.17537\tvalidation_1-logloss:0.41270\n",
      "[226]\tvalidation_0-error:0.13323\tvalidation_0-logloss:0.37197\tvalidation_1-error:0.17537\tvalidation_1-logloss:0.41238\n",
      "[227]\tvalidation_0-error:0.13323\tvalidation_0-logloss:0.37149\tvalidation_1-error:0.17537\tvalidation_1-logloss:0.41230\n",
      "[228]\tvalidation_0-error:0.13323\tvalidation_0-logloss:0.37113\tvalidation_1-error:0.17537\tvalidation_1-logloss:0.41213\n",
      "[229]\tvalidation_0-error:0.13323\tvalidation_0-logloss:0.37070\tvalidation_1-error:0.17537\tvalidation_1-logloss:0.41173\n",
      "[230]\tvalidation_0-error:0.13323\tvalidation_0-logloss:0.37028\tvalidation_1-error:0.17537\tvalidation_1-logloss:0.41133\n",
      "[231]\tvalidation_0-error:0.13323\tvalidation_0-logloss:0.36994\tvalidation_1-error:0.17537\tvalidation_1-logloss:0.41117\n",
      "[232]\tvalidation_0-error:0.13323\tvalidation_0-logloss:0.36943\tvalidation_1-error:0.17537\tvalidation_1-logloss:0.41091\n",
      "[233]\tvalidation_0-error:0.13323\tvalidation_0-logloss:0.36887\tvalidation_1-error:0.17537\tvalidation_1-logloss:0.41045\n",
      "[234]\tvalidation_0-error:0.13323\tvalidation_0-logloss:0.36856\tvalidation_1-error:0.17537\tvalidation_1-logloss:0.41009\n",
      "[235]\tvalidation_0-error:0.13323\tvalidation_0-logloss:0.36811\tvalidation_1-error:0.17537\tvalidation_1-logloss:0.40991\n",
      "[236]\tvalidation_0-error:0.13323\tvalidation_0-logloss:0.36772\tvalidation_1-error:0.17537\tvalidation_1-logloss:0.40991\n",
      "[237]\tvalidation_0-error:0.13323\tvalidation_0-logloss:0.36734\tvalidation_1-error:0.17537\tvalidation_1-logloss:0.40975\n",
      "[238]\tvalidation_0-error:0.13323\tvalidation_0-logloss:0.36677\tvalidation_1-error:0.17537\tvalidation_1-logloss:0.40955\n",
      "[239]\tvalidation_0-error:0.13323\tvalidation_0-logloss:0.36616\tvalidation_1-error:0.17537\tvalidation_1-logloss:0.40907\n",
      "[240]\tvalidation_0-error:0.13323\tvalidation_0-logloss:0.36564\tvalidation_1-error:0.17537\tvalidation_1-logloss:0.40897\n",
      "[241]\tvalidation_0-error:0.13162\tvalidation_0-logloss:0.36526\tvalidation_1-error:0.17537\tvalidation_1-logloss:0.40860\n",
      "[242]\tvalidation_0-error:0.13162\tvalidation_0-logloss:0.36488\tvalidation_1-error:0.17537\tvalidation_1-logloss:0.40835\n",
      "[243]\tvalidation_0-error:0.13162\tvalidation_0-logloss:0.36445\tvalidation_1-error:0.17537\tvalidation_1-logloss:0.40779\n",
      "[244]\tvalidation_0-error:0.13162\tvalidation_0-logloss:0.36408\tvalidation_1-error:0.17537\tvalidation_1-logloss:0.40747\n",
      "[245]\tvalidation_0-error:0.13162\tvalidation_0-logloss:0.36358\tvalidation_1-error:0.17537\tvalidation_1-logloss:0.40711\n",
      "[246]\tvalidation_0-error:0.13162\tvalidation_0-logloss:0.36319\tvalidation_1-error:0.17164\tvalidation_1-logloss:0.40693\n",
      "[247]\tvalidation_0-error:0.13162\tvalidation_0-logloss:0.36281\tvalidation_1-error:0.17164\tvalidation_1-logloss:0.40693\n",
      "[248]\tvalidation_0-error:0.13162\tvalidation_0-logloss:0.36251\tvalidation_1-error:0.17164\tvalidation_1-logloss:0.40654\n",
      "[249]\tvalidation_0-error:0.13162\tvalidation_0-logloss:0.36217\tvalidation_1-error:0.17164\tvalidation_1-logloss:0.40632\n",
      "[250]\tvalidation_0-error:0.13162\tvalidation_0-logloss:0.36179\tvalidation_1-error:0.17537\tvalidation_1-logloss:0.40603\n",
      "[251]\tvalidation_0-error:0.13162\tvalidation_0-logloss:0.36140\tvalidation_1-error:0.17537\tvalidation_1-logloss:0.40569\n",
      "[252]\tvalidation_0-error:0.13162\tvalidation_0-logloss:0.36104\tvalidation_1-error:0.17537\tvalidation_1-logloss:0.40541\n",
      "[253]\tvalidation_0-error:0.13002\tvalidation_0-logloss:0.36066\tvalidation_1-error:0.17537\tvalidation_1-logloss:0.40549\n",
      "[254]\tvalidation_0-error:0.13002\tvalidation_0-logloss:0.36031\tvalidation_1-error:0.17537\tvalidation_1-logloss:0.40550\n",
      "[255]\tvalidation_0-error:0.13002\tvalidation_0-logloss:0.36002\tvalidation_1-error:0.17910\tvalidation_1-logloss:0.40549\n",
      "[256]\tvalidation_0-error:0.13002\tvalidation_0-logloss:0.35960\tvalidation_1-error:0.17537\tvalidation_1-logloss:0.40538\n",
      "[257]\tvalidation_0-error:0.12841\tvalidation_0-logloss:0.35920\tvalidation_1-error:0.17537\tvalidation_1-logloss:0.40551\n",
      "[258]\tvalidation_0-error:0.13002\tvalidation_0-logloss:0.35890\tvalidation_1-error:0.17537\tvalidation_1-logloss:0.40513\n",
      "[259]\tvalidation_0-error:0.13002\tvalidation_0-logloss:0.35856\tvalidation_1-error:0.17537\tvalidation_1-logloss:0.40487\n",
      "[260]\tvalidation_0-error:0.13002\tvalidation_0-logloss:0.35818\tvalidation_1-error:0.17164\tvalidation_1-logloss:0.40475\n",
      "[261]\tvalidation_0-error:0.13002\tvalidation_0-logloss:0.35787\tvalidation_1-error:0.17537\tvalidation_1-logloss:0.40465\n",
      "[262]\tvalidation_0-error:0.13002\tvalidation_0-logloss:0.35766\tvalidation_1-error:0.17537\tvalidation_1-logloss:0.40463\n",
      "[263]\tvalidation_0-error:0.12841\tvalidation_0-logloss:0.35734\tvalidation_1-error:0.17537\tvalidation_1-logloss:0.40490\n",
      "[264]\tvalidation_0-error:0.12841\tvalidation_0-logloss:0.35704\tvalidation_1-error:0.17537\tvalidation_1-logloss:0.40477\n",
      "[265]\tvalidation_0-error:0.13002\tvalidation_0-logloss:0.35675\tvalidation_1-error:0.17537\tvalidation_1-logloss:0.40464\n",
      "[266]\tvalidation_0-error:0.12841\tvalidation_0-logloss:0.35635\tvalidation_1-error:0.17537\tvalidation_1-logloss:0.40444\n",
      "[267]\tvalidation_0-error:0.13002\tvalidation_0-logloss:0.35601\tvalidation_1-error:0.17537\tvalidation_1-logloss:0.40414\n",
      "[268]\tvalidation_0-error:0.12841\tvalidation_0-logloss:0.35570\tvalidation_1-error:0.17164\tvalidation_1-logloss:0.40379\n",
      "[269]\tvalidation_0-error:0.12841\tvalidation_0-logloss:0.35542\tvalidation_1-error:0.17164\tvalidation_1-logloss:0.40379\n",
      "[270]\tvalidation_0-error:0.12681\tvalidation_0-logloss:0.35512\tvalidation_1-error:0.17164\tvalidation_1-logloss:0.40379\n",
      "[271]\tvalidation_0-error:0.12681\tvalidation_0-logloss:0.35481\tvalidation_1-error:0.17164\tvalidation_1-logloss:0.40355\n",
      "[272]\tvalidation_0-error:0.12681\tvalidation_0-logloss:0.35448\tvalidation_1-error:0.17164\tvalidation_1-logloss:0.40345\n",
      "[273]\tvalidation_0-error:0.12681\tvalidation_0-logloss:0.35402\tvalidation_1-error:0.17537\tvalidation_1-logloss:0.40348\n",
      "[274]\tvalidation_0-error:0.12841\tvalidation_0-logloss:0.35363\tvalidation_1-error:0.17537\tvalidation_1-logloss:0.40324\n",
      "[275]\tvalidation_0-error:0.12841\tvalidation_0-logloss:0.35322\tvalidation_1-error:0.16791\tvalidation_1-logloss:0.40298\n",
      "[276]\tvalidation_0-error:0.12681\tvalidation_0-logloss:0.35284\tvalidation_1-error:0.16791\tvalidation_1-logloss:0.40285\n",
      "[277]\tvalidation_0-error:0.12681\tvalidation_0-logloss:0.35245\tvalidation_1-error:0.16791\tvalidation_1-logloss:0.40312\n",
      "[278]\tvalidation_0-error:0.12681\tvalidation_0-logloss:0.35221\tvalidation_1-error:0.16791\tvalidation_1-logloss:0.40336\n",
      "[279]\tvalidation_0-error:0.12681\tvalidation_0-logloss:0.35187\tvalidation_1-error:0.16791\tvalidation_1-logloss:0.40300\n",
      "[280]\tvalidation_0-error:0.12681\tvalidation_0-logloss:0.35148\tvalidation_1-error:0.17164\tvalidation_1-logloss:0.40308\n"
     ]
    },
    {
     "name": "stdout",
     "output_type": "stream",
     "text": [
      "[281]\tvalidation_0-error:0.12681\tvalidation_0-logloss:0.35133\tvalidation_1-error:0.16791\tvalidation_1-logloss:0.40308\n",
      "[282]\tvalidation_0-error:0.12681\tvalidation_0-logloss:0.35100\tvalidation_1-error:0.16791\tvalidation_1-logloss:0.40281\n",
      "[283]\tvalidation_0-error:0.12681\tvalidation_0-logloss:0.35066\tvalidation_1-error:0.16791\tvalidation_1-logloss:0.40274\n",
      "[284]\tvalidation_0-error:0.12681\tvalidation_0-logloss:0.35036\tvalidation_1-error:0.16791\tvalidation_1-logloss:0.40273\n",
      "[285]\tvalidation_0-error:0.12681\tvalidation_0-logloss:0.35004\tvalidation_1-error:0.16791\tvalidation_1-logloss:0.40270\n",
      "[286]\tvalidation_0-error:0.12681\tvalidation_0-logloss:0.34968\tvalidation_1-error:0.16791\tvalidation_1-logloss:0.40268\n",
      "[287]\tvalidation_0-error:0.12681\tvalidation_0-logloss:0.34930\tvalidation_1-error:0.16418\tvalidation_1-logloss:0.40220\n",
      "[288]\tvalidation_0-error:0.12681\tvalidation_0-logloss:0.34891\tvalidation_1-error:0.16791\tvalidation_1-logloss:0.40230\n",
      "[289]\tvalidation_0-error:0.12681\tvalidation_0-logloss:0.34875\tvalidation_1-error:0.17164\tvalidation_1-logloss:0.40233\n",
      "[290]\tvalidation_0-error:0.12681\tvalidation_0-logloss:0.34851\tvalidation_1-error:0.17164\tvalidation_1-logloss:0.40194\n",
      "[291]\tvalidation_0-error:0.12681\tvalidation_0-logloss:0.34832\tvalidation_1-error:0.17164\tvalidation_1-logloss:0.40170\n",
      "[292]\tvalidation_0-error:0.12681\tvalidation_0-logloss:0.34821\tvalidation_1-error:0.17164\tvalidation_1-logloss:0.40160\n",
      "[293]\tvalidation_0-error:0.12681\tvalidation_0-logloss:0.34784\tvalidation_1-error:0.17164\tvalidation_1-logloss:0.40152\n",
      "[294]\tvalidation_0-error:0.12681\tvalidation_0-logloss:0.34753\tvalidation_1-error:0.16791\tvalidation_1-logloss:0.40120\n",
      "[295]\tvalidation_0-error:0.12681\tvalidation_0-logloss:0.34719\tvalidation_1-error:0.16791\tvalidation_1-logloss:0.40110\n",
      "[296]\tvalidation_0-error:0.12681\tvalidation_0-logloss:0.34681\tvalidation_1-error:0.16791\tvalidation_1-logloss:0.40085\n",
      "[297]\tvalidation_0-error:0.12520\tvalidation_0-logloss:0.34660\tvalidation_1-error:0.16791\tvalidation_1-logloss:0.40084\n",
      "[298]\tvalidation_0-error:0.12681\tvalidation_0-logloss:0.34640\tvalidation_1-error:0.16418\tvalidation_1-logloss:0.40052\n",
      "[299]\tvalidation_0-error:0.12520\tvalidation_0-logloss:0.34613\tvalidation_1-error:0.17164\tvalidation_1-logloss:0.40047\n",
      "[300]\tvalidation_0-error:0.12520\tvalidation_0-logloss:0.34570\tvalidation_1-error:0.16791\tvalidation_1-logloss:0.40019\n",
      "[301]\tvalidation_0-error:0.12681\tvalidation_0-logloss:0.34538\tvalidation_1-error:0.16791\tvalidation_1-logloss:0.40031\n",
      "[302]\tvalidation_0-error:0.12681\tvalidation_0-logloss:0.34509\tvalidation_1-error:0.17164\tvalidation_1-logloss:0.40006\n",
      "[303]\tvalidation_0-error:0.12681\tvalidation_0-logloss:0.34478\tvalidation_1-error:0.16791\tvalidation_1-logloss:0.39996\n",
      "[304]\tvalidation_0-error:0.12681\tvalidation_0-logloss:0.34448\tvalidation_1-error:0.17164\tvalidation_1-logloss:0.39988\n",
      "[305]\tvalidation_0-error:0.12681\tvalidation_0-logloss:0.34416\tvalidation_1-error:0.16791\tvalidation_1-logloss:0.39970\n",
      "[306]\tvalidation_0-error:0.12681\tvalidation_0-logloss:0.34401\tvalidation_1-error:0.16791\tvalidation_1-logloss:0.39974\n",
      "[307]\tvalidation_0-error:0.12681\tvalidation_0-logloss:0.34365\tvalidation_1-error:0.16418\tvalidation_1-logloss:0.39948\n",
      "[308]\tvalidation_0-error:0.12520\tvalidation_0-logloss:0.34345\tvalidation_1-error:0.16791\tvalidation_1-logloss:0.39930\n",
      "[309]\tvalidation_0-error:0.12520\tvalidation_0-logloss:0.34308\tvalidation_1-error:0.16791\tvalidation_1-logloss:0.39920\n",
      "[310]\tvalidation_0-error:0.12520\tvalidation_0-logloss:0.34277\tvalidation_1-error:0.16418\tvalidation_1-logloss:0.39935\n",
      "[311]\tvalidation_0-error:0.12520\tvalidation_0-logloss:0.34248\tvalidation_1-error:0.16418\tvalidation_1-logloss:0.39948\n",
      "[312]\tvalidation_0-error:0.12520\tvalidation_0-logloss:0.34222\tvalidation_1-error:0.16418\tvalidation_1-logloss:0.39936\n",
      "[313]\tvalidation_0-error:0.12520\tvalidation_0-logloss:0.34194\tvalidation_1-error:0.16045\tvalidation_1-logloss:0.39928\n",
      "[314]\tvalidation_0-error:0.12520\tvalidation_0-logloss:0.34171\tvalidation_1-error:0.16045\tvalidation_1-logloss:0.39918\n",
      "[315]\tvalidation_0-error:0.12520\tvalidation_0-logloss:0.34144\tvalidation_1-error:0.16045\tvalidation_1-logloss:0.39890\n",
      "[316]\tvalidation_0-error:0.12681\tvalidation_0-logloss:0.34107\tvalidation_1-error:0.16418\tvalidation_1-logloss:0.39886\n",
      "[317]\tvalidation_0-error:0.12681\tvalidation_0-logloss:0.34090\tvalidation_1-error:0.16418\tvalidation_1-logloss:0.39867\n",
      "[318]\tvalidation_0-error:0.12681\tvalidation_0-logloss:0.34066\tvalidation_1-error:0.16418\tvalidation_1-logloss:0.39844\n",
      "[319]\tvalidation_0-error:0.12681\tvalidation_0-logloss:0.34036\tvalidation_1-error:0.16418\tvalidation_1-logloss:0.39832\n",
      "[320]\tvalidation_0-error:0.12681\tvalidation_0-logloss:0.34010\tvalidation_1-error:0.16418\tvalidation_1-logloss:0.39817\n",
      "[321]\tvalidation_0-error:0.12681\tvalidation_0-logloss:0.33972\tvalidation_1-error:0.16791\tvalidation_1-logloss:0.39793\n",
      "[322]\tvalidation_0-error:0.12681\tvalidation_0-logloss:0.33944\tvalidation_1-error:0.16791\tvalidation_1-logloss:0.39792\n",
      "[323]\tvalidation_0-error:0.12681\tvalidation_0-logloss:0.33902\tvalidation_1-error:0.16791\tvalidation_1-logloss:0.39774\n",
      "[324]\tvalidation_0-error:0.12681\tvalidation_0-logloss:0.33882\tvalidation_1-error:0.16791\tvalidation_1-logloss:0.39761\n",
      "[325]\tvalidation_0-error:0.12520\tvalidation_0-logloss:0.33859\tvalidation_1-error:0.16418\tvalidation_1-logloss:0.39757\n",
      "[326]\tvalidation_0-error:0.12681\tvalidation_0-logloss:0.33833\tvalidation_1-error:0.16791\tvalidation_1-logloss:0.39743\n",
      "[327]\tvalidation_0-error:0.12520\tvalidation_0-logloss:0.33816\tvalidation_1-error:0.16791\tvalidation_1-logloss:0.39743\n",
      "[328]\tvalidation_0-error:0.12681\tvalidation_0-logloss:0.33796\tvalidation_1-error:0.16418\tvalidation_1-logloss:0.39742\n",
      "[329]\tvalidation_0-error:0.12681\tvalidation_0-logloss:0.33757\tvalidation_1-error:0.16418\tvalidation_1-logloss:0.39726\n",
      "[330]\tvalidation_0-error:0.12681\tvalidation_0-logloss:0.33742\tvalidation_1-error:0.16791\tvalidation_1-logloss:0.39714\n",
      "[331]\tvalidation_0-error:0.12520\tvalidation_0-logloss:0.33721\tvalidation_1-error:0.16418\tvalidation_1-logloss:0.39713\n",
      "[332]\tvalidation_0-error:0.12520\tvalidation_0-logloss:0.33703\tvalidation_1-error:0.16791\tvalidation_1-logloss:0.39691\n",
      "[333]\tvalidation_0-error:0.12520\tvalidation_0-logloss:0.33679\tvalidation_1-error:0.16791\tvalidation_1-logloss:0.39680\n",
      "[334]\tvalidation_0-error:0.12520\tvalidation_0-logloss:0.33659\tvalidation_1-error:0.16418\tvalidation_1-logloss:0.39665\n",
      "[335]\tvalidation_0-error:0.12360\tvalidation_0-logloss:0.33635\tvalidation_1-error:0.16418\tvalidation_1-logloss:0.39637\n",
      "[336]\tvalidation_0-error:0.12360\tvalidation_0-logloss:0.33612\tvalidation_1-error:0.16418\tvalidation_1-logloss:0.39636\n",
      "[337]\tvalidation_0-error:0.12520\tvalidation_0-logloss:0.33588\tvalidation_1-error:0.16418\tvalidation_1-logloss:0.39610\n",
      "[338]\tvalidation_0-error:0.12681\tvalidation_0-logloss:0.33559\tvalidation_1-error:0.16418\tvalidation_1-logloss:0.39601\n",
      "[339]\tvalidation_0-error:0.12520\tvalidation_0-logloss:0.33538\tvalidation_1-error:0.16418\tvalidation_1-logloss:0.39604\n",
      "[340]\tvalidation_0-error:0.12520\tvalidation_0-logloss:0.33515\tvalidation_1-error:0.16418\tvalidation_1-logloss:0.39593\n",
      "[341]\tvalidation_0-error:0.12520\tvalidation_0-logloss:0.33478\tvalidation_1-error:0.16418\tvalidation_1-logloss:0.39589\n",
      "[342]\tvalidation_0-error:0.12520\tvalidation_0-logloss:0.33442\tvalidation_1-error:0.16418\tvalidation_1-logloss:0.39579\n",
      "[343]\tvalidation_0-error:0.12520\tvalidation_0-logloss:0.33422\tvalidation_1-error:0.16418\tvalidation_1-logloss:0.39589\n",
      "[344]\tvalidation_0-error:0.12520\tvalidation_0-logloss:0.33398\tvalidation_1-error:0.16418\tvalidation_1-logloss:0.39588\n",
      "[345]\tvalidation_0-error:0.12841\tvalidation_0-logloss:0.33385\tvalidation_1-error:0.16418\tvalidation_1-logloss:0.39587\n",
      "[346]\tvalidation_0-error:0.12681\tvalidation_0-logloss:0.33363\tvalidation_1-error:0.16418\tvalidation_1-logloss:0.39584\n",
      "[347]\tvalidation_0-error:0.12681\tvalidation_0-logloss:0.33341\tvalidation_1-error:0.16418\tvalidation_1-logloss:0.39607\n",
      "[348]\tvalidation_0-error:0.12681\tvalidation_0-logloss:0.33317\tvalidation_1-error:0.16418\tvalidation_1-logloss:0.39612\n",
      "[349]\tvalidation_0-error:0.12520\tvalidation_0-logloss:0.33297\tvalidation_1-error:0.16418\tvalidation_1-logloss:0.39575\n",
      "[350]\tvalidation_0-error:0.12520\tvalidation_0-logloss:0.33281\tvalidation_1-error:0.16418\tvalidation_1-logloss:0.39566\n"
     ]
    },
    {
     "name": "stdout",
     "output_type": "stream",
     "text": [
      "[351]\tvalidation_0-error:0.12681\tvalidation_0-logloss:0.33260\tvalidation_1-error:0.16418\tvalidation_1-logloss:0.39580\n",
      "[352]\tvalidation_0-error:0.12520\tvalidation_0-logloss:0.33235\tvalidation_1-error:0.16418\tvalidation_1-logloss:0.39569\n",
      "[353]\tvalidation_0-error:0.12360\tvalidation_0-logloss:0.33213\tvalidation_1-error:0.16418\tvalidation_1-logloss:0.39552\n",
      "[354]\tvalidation_0-error:0.12520\tvalidation_0-logloss:0.33194\tvalidation_1-error:0.16418\tvalidation_1-logloss:0.39553\n",
      "[355]\tvalidation_0-error:0.12520\tvalidation_0-logloss:0.33174\tvalidation_1-error:0.16418\tvalidation_1-logloss:0.39543\n",
      "[356]\tvalidation_0-error:0.12681\tvalidation_0-logloss:0.33149\tvalidation_1-error:0.16418\tvalidation_1-logloss:0.39517\n",
      "[357]\tvalidation_0-error:0.12681\tvalidation_0-logloss:0.33133\tvalidation_1-error:0.16418\tvalidation_1-logloss:0.39504\n",
      "[358]\tvalidation_0-error:0.12520\tvalidation_0-logloss:0.33113\tvalidation_1-error:0.16418\tvalidation_1-logloss:0.39501\n",
      "[359]\tvalidation_0-error:0.12520\tvalidation_0-logloss:0.33089\tvalidation_1-error:0.16418\tvalidation_1-logloss:0.39471\n",
      "[360]\tvalidation_0-error:0.12360\tvalidation_0-logloss:0.33070\tvalidation_1-error:0.16418\tvalidation_1-logloss:0.39454\n",
      "[361]\tvalidation_0-error:0.12360\tvalidation_0-logloss:0.33051\tvalidation_1-error:0.16418\tvalidation_1-logloss:0.39454\n",
      "[362]\tvalidation_0-error:0.12199\tvalidation_0-logloss:0.33028\tvalidation_1-error:0.16418\tvalidation_1-logloss:0.39445\n",
      "[363]\tvalidation_0-error:0.12360\tvalidation_0-logloss:0.32997\tvalidation_1-error:0.16418\tvalidation_1-logloss:0.39447\n",
      "[364]\tvalidation_0-error:0.12360\tvalidation_0-logloss:0.32975\tvalidation_1-error:0.16418\tvalidation_1-logloss:0.39454\n",
      "[365]\tvalidation_0-error:0.12360\tvalidation_0-logloss:0.32946\tvalidation_1-error:0.16418\tvalidation_1-logloss:0.39442\n",
      "[366]\tvalidation_0-error:0.12360\tvalidation_0-logloss:0.32918\tvalidation_1-error:0.16418\tvalidation_1-logloss:0.39428\n",
      "[367]\tvalidation_0-error:0.12360\tvalidation_0-logloss:0.32899\tvalidation_1-error:0.16045\tvalidation_1-logloss:0.39411\n",
      "[368]\tvalidation_0-error:0.12360\tvalidation_0-logloss:0.32877\tvalidation_1-error:0.16418\tvalidation_1-logloss:0.39398\n",
      "[369]\tvalidation_0-error:0.12199\tvalidation_0-logloss:0.32857\tvalidation_1-error:0.16418\tvalidation_1-logloss:0.39384\n",
      "[370]\tvalidation_0-error:0.12199\tvalidation_0-logloss:0.32832\tvalidation_1-error:0.16045\tvalidation_1-logloss:0.39384\n",
      "[371]\tvalidation_0-error:0.12199\tvalidation_0-logloss:0.32800\tvalidation_1-error:0.16045\tvalidation_1-logloss:0.39393\n",
      "[372]\tvalidation_0-error:0.12039\tvalidation_0-logloss:0.32775\tvalidation_1-error:0.15672\tvalidation_1-logloss:0.39384\n",
      "[373]\tvalidation_0-error:0.12039\tvalidation_0-logloss:0.32757\tvalidation_1-error:0.15672\tvalidation_1-logloss:0.39359\n",
      "[374]\tvalidation_0-error:0.11878\tvalidation_0-logloss:0.32732\tvalidation_1-error:0.15672\tvalidation_1-logloss:0.39342\n",
      "[375]\tvalidation_0-error:0.12039\tvalidation_0-logloss:0.32724\tvalidation_1-error:0.15672\tvalidation_1-logloss:0.39354\n",
      "[376]\tvalidation_0-error:0.12039\tvalidation_0-logloss:0.32708\tvalidation_1-error:0.15672\tvalidation_1-logloss:0.39324\n",
      "[377]\tvalidation_0-error:0.12039\tvalidation_0-logloss:0.32693\tvalidation_1-error:0.15672\tvalidation_1-logloss:0.39310\n",
      "[378]\tvalidation_0-error:0.12039\tvalidation_0-logloss:0.32669\tvalidation_1-error:0.15672\tvalidation_1-logloss:0.39306\n",
      "[379]\tvalidation_0-error:0.12039\tvalidation_0-logloss:0.32645\tvalidation_1-error:0.15672\tvalidation_1-logloss:0.39302\n",
      "[380]\tvalidation_0-error:0.12039\tvalidation_0-logloss:0.32620\tvalidation_1-error:0.15299\tvalidation_1-logloss:0.39320\n",
      "[381]\tvalidation_0-error:0.11878\tvalidation_0-logloss:0.32598\tvalidation_1-error:0.15672\tvalidation_1-logloss:0.39325\n",
      "[382]\tvalidation_0-error:0.11878\tvalidation_0-logloss:0.32571\tvalidation_1-error:0.15672\tvalidation_1-logloss:0.39319\n",
      "[383]\tvalidation_0-error:0.11878\tvalidation_0-logloss:0.32554\tvalidation_1-error:0.15672\tvalidation_1-logloss:0.39308\n",
      "[384]\tvalidation_0-error:0.11718\tvalidation_0-logloss:0.32541\tvalidation_1-error:0.15299\tvalidation_1-logloss:0.39289\n",
      "[385]\tvalidation_0-error:0.11718\tvalidation_0-logloss:0.32515\tvalidation_1-error:0.15672\tvalidation_1-logloss:0.39271\n",
      "[386]\tvalidation_0-error:0.11718\tvalidation_0-logloss:0.32495\tvalidation_1-error:0.15672\tvalidation_1-logloss:0.39248\n",
      "[387]\tvalidation_0-error:0.11878\tvalidation_0-logloss:0.32470\tvalidation_1-error:0.15672\tvalidation_1-logloss:0.39261\n",
      "[388]\tvalidation_0-error:0.11878\tvalidation_0-logloss:0.32443\tvalidation_1-error:0.15299\tvalidation_1-logloss:0.39249\n",
      "[389]\tvalidation_0-error:0.12039\tvalidation_0-logloss:0.32418\tvalidation_1-error:0.15299\tvalidation_1-logloss:0.39244\n",
      "[390]\tvalidation_0-error:0.11878\tvalidation_0-logloss:0.32390\tvalidation_1-error:0.15299\tvalidation_1-logloss:0.39248\n",
      "[391]\tvalidation_0-error:0.11878\tvalidation_0-logloss:0.32369\tvalidation_1-error:0.15299\tvalidation_1-logloss:0.39231\n",
      "[392]\tvalidation_0-error:0.11878\tvalidation_0-logloss:0.32348\tvalidation_1-error:0.15299\tvalidation_1-logloss:0.39244\n",
      "[393]\tvalidation_0-error:0.11878\tvalidation_0-logloss:0.32325\tvalidation_1-error:0.14925\tvalidation_1-logloss:0.39252\n",
      "[394]\tvalidation_0-error:0.11878\tvalidation_0-logloss:0.32305\tvalidation_1-error:0.14925\tvalidation_1-logloss:0.39240\n",
      "[395]\tvalidation_0-error:0.11878\tvalidation_0-logloss:0.32292\tvalidation_1-error:0.14925\tvalidation_1-logloss:0.39230\n",
      "[396]\tvalidation_0-error:0.11878\tvalidation_0-logloss:0.32276\tvalidation_1-error:0.14925\tvalidation_1-logloss:0.39205\n",
      "[397]\tvalidation_0-error:0.11718\tvalidation_0-logloss:0.32258\tvalidation_1-error:0.14925\tvalidation_1-logloss:0.39198\n",
      "[398]\tvalidation_0-error:0.11718\tvalidation_0-logloss:0.32234\tvalidation_1-error:0.14925\tvalidation_1-logloss:0.39185\n",
      "[399]\tvalidation_0-error:0.11718\tvalidation_0-logloss:0.32215\tvalidation_1-error:0.14925\tvalidation_1-logloss:0.39199\n",
      "[400]\tvalidation_0-error:0.11718\tvalidation_0-logloss:0.32192\tvalidation_1-error:0.14925\tvalidation_1-logloss:0.39199\n",
      "[401]\tvalidation_0-error:0.11718\tvalidation_0-logloss:0.32173\tvalidation_1-error:0.14925\tvalidation_1-logloss:0.39187\n",
      "[402]\tvalidation_0-error:0.11718\tvalidation_0-logloss:0.32165\tvalidation_1-error:0.14925\tvalidation_1-logloss:0.39199\n",
      "[403]\tvalidation_0-error:0.11718\tvalidation_0-logloss:0.32145\tvalidation_1-error:0.14925\tvalidation_1-logloss:0.39209\n",
      "[404]\tvalidation_0-error:0.11718\tvalidation_0-logloss:0.32132\tvalidation_1-error:0.14925\tvalidation_1-logloss:0.39182\n",
      "[405]\tvalidation_0-error:0.11718\tvalidation_0-logloss:0.32118\tvalidation_1-error:0.14925\tvalidation_1-logloss:0.39193\n",
      "[406]\tvalidation_0-error:0.11557\tvalidation_0-logloss:0.32101\tvalidation_1-error:0.14925\tvalidation_1-logloss:0.39190\n",
      "[407]\tvalidation_0-error:0.11557\tvalidation_0-logloss:0.32088\tvalidation_1-error:0.14925\tvalidation_1-logloss:0.39164\n",
      "[408]\tvalidation_0-error:0.11557\tvalidation_0-logloss:0.32065\tvalidation_1-error:0.14925\tvalidation_1-logloss:0.39168\n",
      "[409]\tvalidation_0-error:0.11396\tvalidation_0-logloss:0.32049\tvalidation_1-error:0.15299\tvalidation_1-logloss:0.39164\n",
      "[410]\tvalidation_0-error:0.11396\tvalidation_0-logloss:0.32015\tvalidation_1-error:0.14925\tvalidation_1-logloss:0.39170\n",
      "[411]\tvalidation_0-error:0.11396\tvalidation_0-logloss:0.32001\tvalidation_1-error:0.14925\tvalidation_1-logloss:0.39163\n",
      "[412]\tvalidation_0-error:0.11718\tvalidation_0-logloss:0.31974\tvalidation_1-error:0.14925\tvalidation_1-logloss:0.39148\n",
      "[413]\tvalidation_0-error:0.11557\tvalidation_0-logloss:0.31953\tvalidation_1-error:0.14925\tvalidation_1-logloss:0.39148\n",
      "[414]\tvalidation_0-error:0.11557\tvalidation_0-logloss:0.31932\tvalidation_1-error:0.14925\tvalidation_1-logloss:0.39141\n",
      "[415]\tvalidation_0-error:0.11396\tvalidation_0-logloss:0.31909\tvalidation_1-error:0.15299\tvalidation_1-logloss:0.39117\n",
      "[416]\tvalidation_0-error:0.11396\tvalidation_0-logloss:0.31901\tvalidation_1-error:0.15299\tvalidation_1-logloss:0.39119\n",
      "[417]\tvalidation_0-error:0.11396\tvalidation_0-logloss:0.31885\tvalidation_1-error:0.14925\tvalidation_1-logloss:0.39093\n",
      "[418]\tvalidation_0-error:0.11557\tvalidation_0-logloss:0.31862\tvalidation_1-error:0.14925\tvalidation_1-logloss:0.39085\n",
      "[419]\tvalidation_0-error:0.11557\tvalidation_0-logloss:0.31845\tvalidation_1-error:0.14925\tvalidation_1-logloss:0.39078\n",
      "Wall time: 2.25 s\n"
     ]
    },
    {
     "data": {
      "text/plain": [
       "0.8507462686567164"
      ]
     },
     "execution_count": 42,
     "metadata": {},
     "output_type": "execute_result"
    }
   ],
   "source": [
    "%%time\n",
    "from xgboost import XGBClassifier\n",
    "classifier = xgb.XGBClassifier(max_depth=12,\n",
    "                        subsample=0.33,\n",
    "                        objective='binary:logistic',\n",
    "                        n_estimators=420,\n",
    "                        learning_rate = 0.01)\n",
    "eval_set = [(X_train,y_train), (X_test,y_test)]\n",
    "classifier.fit(X_train, y_train.values.ravel(), early_stopping_rounds=12, eval_metric=[\"error\", \"logloss\"], eval_set=eval_set, verbose=True)\n",
    "classifier.score(X_test,y_test)"
   ]
  },
  {
   "cell_type": "code",
   "execution_count": 43,
   "metadata": {},
   "outputs": [
    {
     "data": {
      "text/plain": [
       "0.8507462686567164"
      ]
     },
     "execution_count": 43,
     "metadata": {},
     "output_type": "execute_result"
    }
   ],
   "source": [
    "classifier.score(X_test,y_test)"
   ]
  },
  {
   "cell_type": "markdown",
   "metadata": {},
   "source": [
    "### Lets import the test dataset for the competition"
   ]
  },
  {
   "cell_type": "code",
   "execution_count": 44,
   "metadata": {},
   "outputs": [
    {
     "data": {
      "text/html": [
       "<div>\n",
       "<style scoped>\n",
       "    .dataframe tbody tr th:only-of-type {\n",
       "        vertical-align: middle;\n",
       "    }\n",
       "\n",
       "    .dataframe tbody tr th {\n",
       "        vertical-align: top;\n",
       "    }\n",
       "\n",
       "    .dataframe thead th {\n",
       "        text-align: right;\n",
       "    }\n",
       "</style>\n",
       "<table border=\"1\" class=\"dataframe\">\n",
       "  <thead>\n",
       "    <tr style=\"text-align: right;\">\n",
       "      <th></th>\n",
       "      <th>PassengerId</th>\n",
       "      <th>Pclass</th>\n",
       "      <th>Name</th>\n",
       "      <th>Sex</th>\n",
       "      <th>Age</th>\n",
       "      <th>SibSp</th>\n",
       "      <th>Parch</th>\n",
       "      <th>Ticket</th>\n",
       "      <th>Fare</th>\n",
       "      <th>Cabin</th>\n",
       "      <th>Embarked</th>\n",
       "    </tr>\n",
       "  </thead>\n",
       "  <tbody>\n",
       "    <tr>\n",
       "      <th>0</th>\n",
       "      <td>892</td>\n",
       "      <td>3</td>\n",
       "      <td>Kelly, Mr. James</td>\n",
       "      <td>male</td>\n",
       "      <td>34.5</td>\n",
       "      <td>0</td>\n",
       "      <td>0</td>\n",
       "      <td>330911</td>\n",
       "      <td>7.8292</td>\n",
       "      <td>NaN</td>\n",
       "      <td>Q</td>\n",
       "    </tr>\n",
       "    <tr>\n",
       "      <th>1</th>\n",
       "      <td>893</td>\n",
       "      <td>3</td>\n",
       "      <td>Wilkes, Mrs. James (Ellen Needs)</td>\n",
       "      <td>female</td>\n",
       "      <td>47.0</td>\n",
       "      <td>1</td>\n",
       "      <td>0</td>\n",
       "      <td>363272</td>\n",
       "      <td>7.0000</td>\n",
       "      <td>NaN</td>\n",
       "      <td>S</td>\n",
       "    </tr>\n",
       "    <tr>\n",
       "      <th>2</th>\n",
       "      <td>894</td>\n",
       "      <td>2</td>\n",
       "      <td>Myles, Mr. Thomas Francis</td>\n",
       "      <td>male</td>\n",
       "      <td>62.0</td>\n",
       "      <td>0</td>\n",
       "      <td>0</td>\n",
       "      <td>240276</td>\n",
       "      <td>9.6875</td>\n",
       "      <td>NaN</td>\n",
       "      <td>Q</td>\n",
       "    </tr>\n",
       "    <tr>\n",
       "      <th>3</th>\n",
       "      <td>895</td>\n",
       "      <td>3</td>\n",
       "      <td>Wirz, Mr. Albert</td>\n",
       "      <td>male</td>\n",
       "      <td>27.0</td>\n",
       "      <td>0</td>\n",
       "      <td>0</td>\n",
       "      <td>315154</td>\n",
       "      <td>8.6625</td>\n",
       "      <td>NaN</td>\n",
       "      <td>S</td>\n",
       "    </tr>\n",
       "    <tr>\n",
       "      <th>4</th>\n",
       "      <td>896</td>\n",
       "      <td>3</td>\n",
       "      <td>Hirvonen, Mrs. Alexander (Helga E Lindqvist)</td>\n",
       "      <td>female</td>\n",
       "      <td>22.0</td>\n",
       "      <td>1</td>\n",
       "      <td>1</td>\n",
       "      <td>3101298</td>\n",
       "      <td>12.2875</td>\n",
       "      <td>NaN</td>\n",
       "      <td>S</td>\n",
       "    </tr>\n",
       "  </tbody>\n",
       "</table>\n",
       "</div>"
      ],
      "text/plain": [
       "   PassengerId  Pclass                                          Name     Sex  \\\n",
       "0          892       3                              Kelly, Mr. James    male   \n",
       "1          893       3              Wilkes, Mrs. James (Ellen Needs)  female   \n",
       "2          894       2                     Myles, Mr. Thomas Francis    male   \n",
       "3          895       3                              Wirz, Mr. Albert    male   \n",
       "4          896       3  Hirvonen, Mrs. Alexander (Helga E Lindqvist)  female   \n",
       "\n",
       "    Age  SibSp  Parch   Ticket     Fare Cabin Embarked  \n",
       "0  34.5      0      0   330911   7.8292   NaN        Q  \n",
       "1  47.0      1      0   363272   7.0000   NaN        S  \n",
       "2  62.0      0      0   240276   9.6875   NaN        Q  \n",
       "3  27.0      0      0   315154   8.6625   NaN        S  \n",
       "4  22.0      1      1  3101298  12.2875   NaN        S  "
      ]
     },
     "execution_count": 44,
     "metadata": {},
     "output_type": "execute_result"
    }
   ],
   "source": [
    "test = pd.read_csv('test.csv')\n",
    "test.head()"
   ]
  },
  {
   "cell_type": "code",
   "execution_count": 45,
   "metadata": {},
   "outputs": [
    {
     "data": {
      "text/plain": [
       "PassengerId      0\n",
       "Pclass           0\n",
       "Name             0\n",
       "Sex              0\n",
       "Age             86\n",
       "SibSp            0\n",
       "Parch            0\n",
       "Ticket           0\n",
       "Fare             1\n",
       "Cabin          327\n",
       "Embarked         0\n",
       "dtype: int64"
      ]
     },
     "execution_count": 45,
     "metadata": {},
     "output_type": "execute_result"
    }
   ],
   "source": [
    "# Check the null values for the test data\n",
    "test.isnull().sum()"
   ]
  },
  {
   "cell_type": "code",
   "execution_count": 46,
   "metadata": {},
   "outputs": [],
   "source": [
    "#Imputing the null values in the test dataset\n",
    "\n",
    "test['Age'] = test['Age'].fillna(test['Age'].median())\n",
    "test['Fare'] = test['Fare'].fillna(test['Fare'].median())"
   ]
  },
  {
   "cell_type": "code",
   "execution_count": 47,
   "metadata": {},
   "outputs": [
    {
     "data": {
      "text/plain": [
       "PassengerId      0\n",
       "Pclass           0\n",
       "Name             0\n",
       "Sex              0\n",
       "Age              0\n",
       "SibSp            0\n",
       "Parch            0\n",
       "Ticket           0\n",
       "Fare             0\n",
       "Cabin          327\n",
       "Embarked         0\n",
       "dtype: int64"
      ]
     },
     "execution_count": 47,
     "metadata": {},
     "output_type": "execute_result"
    }
   ],
   "source": [
    "test.isnull().sum()"
   ]
  },
  {
   "cell_type": "code",
   "execution_count": 48,
   "metadata": {},
   "outputs": [
    {
     "data": {
      "text/html": [
       "<div>\n",
       "<style scoped>\n",
       "    .dataframe tbody tr th:only-of-type {\n",
       "        vertical-align: middle;\n",
       "    }\n",
       "\n",
       "    .dataframe tbody tr th {\n",
       "        vertical-align: top;\n",
       "    }\n",
       "\n",
       "    .dataframe thead th {\n",
       "        text-align: right;\n",
       "    }\n",
       "</style>\n",
       "<table border=\"1\" class=\"dataframe\">\n",
       "  <thead>\n",
       "    <tr style=\"text-align: right;\">\n",
       "      <th></th>\n",
       "      <th>Pclass</th>\n",
       "      <th>Sex</th>\n",
       "      <th>Age</th>\n",
       "      <th>SibSp</th>\n",
       "      <th>Parch</th>\n",
       "      <th>Fare</th>\n",
       "      <th>Embarked</th>\n",
       "    </tr>\n",
       "  </thead>\n",
       "  <tbody>\n",
       "    <tr>\n",
       "      <th>0</th>\n",
       "      <td>3</td>\n",
       "      <td>male</td>\n",
       "      <td>34.5</td>\n",
       "      <td>0</td>\n",
       "      <td>0</td>\n",
       "      <td>7.8292</td>\n",
       "      <td>Q</td>\n",
       "    </tr>\n",
       "    <tr>\n",
       "      <th>1</th>\n",
       "      <td>3</td>\n",
       "      <td>female</td>\n",
       "      <td>47.0</td>\n",
       "      <td>1</td>\n",
       "      <td>0</td>\n",
       "      <td>7.0000</td>\n",
       "      <td>S</td>\n",
       "    </tr>\n",
       "    <tr>\n",
       "      <th>2</th>\n",
       "      <td>2</td>\n",
       "      <td>male</td>\n",
       "      <td>62.0</td>\n",
       "      <td>0</td>\n",
       "      <td>0</td>\n",
       "      <td>9.6875</td>\n",
       "      <td>Q</td>\n",
       "    </tr>\n",
       "    <tr>\n",
       "      <th>3</th>\n",
       "      <td>3</td>\n",
       "      <td>male</td>\n",
       "      <td>27.0</td>\n",
       "      <td>0</td>\n",
       "      <td>0</td>\n",
       "      <td>8.6625</td>\n",
       "      <td>S</td>\n",
       "    </tr>\n",
       "    <tr>\n",
       "      <th>4</th>\n",
       "      <td>3</td>\n",
       "      <td>female</td>\n",
       "      <td>22.0</td>\n",
       "      <td>1</td>\n",
       "      <td>1</td>\n",
       "      <td>12.2875</td>\n",
       "      <td>S</td>\n",
       "    </tr>\n",
       "  </tbody>\n",
       "</table>\n",
       "</div>"
      ],
      "text/plain": [
       "   Pclass     Sex   Age  SibSp  Parch     Fare Embarked\n",
       "0       3    male  34.5      0      0   7.8292        Q\n",
       "1       3  female  47.0      1      0   7.0000        S\n",
       "2       2    male  62.0      0      0   9.6875        Q\n",
       "3       3    male  27.0      0      0   8.6625        S\n",
       "4       3  female  22.0      1      1  12.2875        S"
      ]
     },
     "execution_count": 48,
     "metadata": {},
     "output_type": "execute_result"
    }
   ],
   "source": [
    "test_data = test[features] # This helps us to drop the Cabin column instead of writing a code as we have already describe features as a list in our notebook, containing only the independent features.\n",
    "test_data.head()"
   ]
  },
  {
   "cell_type": "markdown",
   "metadata": {},
   "source": [
    "### Now we will use Encoding technique to encode categorical variables in column 'Sex' & 'Embarked'"
   ]
  },
  {
   "cell_type": "code",
   "execution_count": 49,
   "metadata": {},
   "outputs": [],
   "source": [
    "test_data['Sex'] = LE.fit_transform(test_data['Sex'])\n",
    "test_data['Embarked'] = LE.fit_transform(test_data['Embarked'])"
   ]
  },
  {
   "cell_type": "code",
   "execution_count": 50,
   "metadata": {},
   "outputs": [
    {
     "data": {
      "text/html": [
       "<div>\n",
       "<style scoped>\n",
       "    .dataframe tbody tr th:only-of-type {\n",
       "        vertical-align: middle;\n",
       "    }\n",
       "\n",
       "    .dataframe tbody tr th {\n",
       "        vertical-align: top;\n",
       "    }\n",
       "\n",
       "    .dataframe thead th {\n",
       "        text-align: right;\n",
       "    }\n",
       "</style>\n",
       "<table border=\"1\" class=\"dataframe\">\n",
       "  <thead>\n",
       "    <tr style=\"text-align: right;\">\n",
       "      <th></th>\n",
       "      <th>Pclass</th>\n",
       "      <th>Sex</th>\n",
       "      <th>Age</th>\n",
       "      <th>SibSp</th>\n",
       "      <th>Parch</th>\n",
       "      <th>Fare</th>\n",
       "      <th>Embarked</th>\n",
       "    </tr>\n",
       "  </thead>\n",
       "  <tbody>\n",
       "    <tr>\n",
       "      <th>0</th>\n",
       "      <td>3</td>\n",
       "      <td>1</td>\n",
       "      <td>34.5</td>\n",
       "      <td>0</td>\n",
       "      <td>0</td>\n",
       "      <td>7.8292</td>\n",
       "      <td>1</td>\n",
       "    </tr>\n",
       "    <tr>\n",
       "      <th>1</th>\n",
       "      <td>3</td>\n",
       "      <td>0</td>\n",
       "      <td>47.0</td>\n",
       "      <td>1</td>\n",
       "      <td>0</td>\n",
       "      <td>7.0000</td>\n",
       "      <td>2</td>\n",
       "    </tr>\n",
       "    <tr>\n",
       "      <th>2</th>\n",
       "      <td>2</td>\n",
       "      <td>1</td>\n",
       "      <td>62.0</td>\n",
       "      <td>0</td>\n",
       "      <td>0</td>\n",
       "      <td>9.6875</td>\n",
       "      <td>1</td>\n",
       "    </tr>\n",
       "    <tr>\n",
       "      <th>3</th>\n",
       "      <td>3</td>\n",
       "      <td>1</td>\n",
       "      <td>27.0</td>\n",
       "      <td>0</td>\n",
       "      <td>0</td>\n",
       "      <td>8.6625</td>\n",
       "      <td>2</td>\n",
       "    </tr>\n",
       "    <tr>\n",
       "      <th>4</th>\n",
       "      <td>3</td>\n",
       "      <td>0</td>\n",
       "      <td>22.0</td>\n",
       "      <td>1</td>\n",
       "      <td>1</td>\n",
       "      <td>12.2875</td>\n",
       "      <td>2</td>\n",
       "    </tr>\n",
       "  </tbody>\n",
       "</table>\n",
       "</div>"
      ],
      "text/plain": [
       "   Pclass  Sex   Age  SibSp  Parch     Fare  Embarked\n",
       "0       3    1  34.5      0      0   7.8292         1\n",
       "1       3    0  47.0      1      0   7.0000         2\n",
       "2       2    1  62.0      0      0   9.6875         1\n",
       "3       3    1  27.0      0      0   8.6625         2\n",
       "4       3    0  22.0      1      1  12.2875         2"
      ]
     },
     "execution_count": 50,
     "metadata": {},
     "output_type": "execute_result"
    }
   ],
   "source": [
    "test_data.head()"
   ]
  },
  {
   "cell_type": "markdown",
   "metadata": {},
   "source": [
    "## Finally, we reached the moment of glory! we will now predict the values in our test data"
   ]
  },
  {
   "cell_type": "code",
   "execution_count": 51,
   "metadata": {},
   "outputs": [],
   "source": [
    "prediction = classifier.predict(test_data)"
   ]
  },
  {
   "cell_type": "code",
   "execution_count": 52,
   "metadata": {},
   "outputs": [
    {
     "data": {
      "text/plain": [
       "array([0, 0, 0, 0, 0, 0, 1, 0, 1, 0, 0, 0, 1, 0, 1, 1, 0, 0, 0, 0, 0, 0,\n",
       "       1, 0, 1, 0, 1, 0, 0, 0, 0, 0, 0, 0, 1, 0, 1, 0, 0, 0, 0, 1, 0, 1,\n",
       "       1, 0, 0, 0, 1, 1, 0, 0, 1, 1, 0, 0, 0, 0, 0, 1, 0, 0, 0, 1, 1, 1,\n",
       "       1, 0, 0, 1, 1, 0, 0, 0, 1, 0, 0, 1, 0, 1, 1, 0, 0, 0, 0, 0, 1, 1,\n",
       "       1, 1, 0, 0, 1, 0, 0, 0, 1, 0, 1, 0, 1, 0, 0, 0, 1, 0, 0, 0, 0, 0,\n",
       "       0, 1, 1, 1, 1, 0, 0, 1, 0, 1, 1, 0, 1, 0, 0, 1, 0, 1, 0, 0, 0, 0,\n",
       "       0, 0, 0, 0, 0, 0, 0, 0, 0, 1, 0, 0, 1, 0, 0, 0, 1, 0, 1, 0, 0, 0,\n",
       "       0, 0, 1, 1, 1, 0, 1, 1, 1, 0, 0, 0, 0, 0, 1, 1, 0, 0, 0, 0, 0, 1,\n",
       "       1, 0, 1, 1, 0, 1, 1, 0, 1, 0, 1, 0, 0, 0, 0, 0, 0, 0, 1, 0, 1, 1,\n",
       "       0, 1, 1, 1, 0, 1, 0, 1, 1, 0, 1, 0, 0, 0, 0, 1, 0, 0, 1, 0, 1, 0,\n",
       "       1, 0, 1, 0, 1, 1, 0, 1, 0, 0, 0, 1, 0, 0, 1, 0, 0, 0, 1, 1, 1, 1,\n",
       "       0, 0, 0, 0, 1, 0, 1, 1, 1, 0, 1, 0, 0, 0, 0, 0, 1, 0, 0, 0, 1, 1,\n",
       "       0, 0, 0, 0, 1, 0, 0, 0, 1, 1, 0, 1, 0, 0, 0, 0, 0, 1, 1, 1, 1, 0,\n",
       "       0, 0, 0, 0, 0, 1, 0, 0, 0, 0, 1, 0, 0, 0, 0, 0, 0, 0, 1, 1, 0, 1,\n",
       "       0, 0, 0, 0, 0, 1, 1, 1, 0, 0, 0, 0, 0, 0, 0, 1, 1, 0, 1, 0, 0, 0,\n",
       "       1, 0, 0, 1, 0, 0, 0, 0, 0, 0, 0, 0, 0, 1, 0, 1, 0, 0, 0, 1, 1, 0,\n",
       "       0, 0, 1, 0, 1, 0, 0, 0, 0, 1, 1, 0, 1, 0, 0, 1, 1, 0, 0, 1, 0, 0,\n",
       "       1, 1, 0, 0, 0, 0, 0, 0, 1, 1, 0, 1, 0, 0, 0, 0, 0, 1, 0, 0, 0, 1,\n",
       "       0, 1, 0, 0, 1, 0, 1, 0, 0, 0, 0, 0, 1, 1, 1, 1, 0, 0, 1, 0, 0, 0],\n",
       "      dtype=int64)"
      ]
     },
     "execution_count": 52,
     "metadata": {},
     "output_type": "execute_result"
    }
   ],
   "source": [
    "prediction"
   ]
  },
  {
   "cell_type": "code",
   "execution_count": 53,
   "metadata": {},
   "outputs": [],
   "source": [
    "predictions = pd.DataFrame(prediction) # storing the prediction in a pandas DataFrame"
   ]
  },
  {
   "cell_type": "code",
   "execution_count": 54,
   "metadata": {},
   "outputs": [],
   "source": [
    "gender_submission = pd.read_csv('gender_submission.csv')"
   ]
  },
  {
   "cell_type": "code",
   "execution_count": 55,
   "metadata": {},
   "outputs": [],
   "source": [
    "datasets = pd.concat(([gender_submission['PassengerId'],predictions]),axis=1)"
   ]
  },
  {
   "cell_type": "code",
   "execution_count": 56,
   "metadata": {},
   "outputs": [],
   "source": [
    "# creating the submission file\n",
    "datasets.columns=['PassengerId','Survived']\n",
    "datasets.to_csv('gender_submission.csv',index=False) "
   ]
  }
 ],
 "metadata": {
  "kernelspec": {
   "display_name": "Python 3",
   "language": "python",
   "name": "python3"
  },
  "language_info": {
   "codemirror_mode": {
    "name": "ipython",
    "version": 3
   },
   "file_extension": ".py",
   "mimetype": "text/x-python",
   "name": "python",
   "nbconvert_exporter": "python",
   "pygments_lexer": "ipython3",
   "version": "3.8.5"
  }
 },
 "nbformat": 4,
 "nbformat_minor": 4
}
